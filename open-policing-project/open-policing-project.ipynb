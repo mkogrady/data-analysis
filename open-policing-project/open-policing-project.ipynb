{
 "cells": [
  {
   "cell_type": "markdown",
   "metadata": {},
   "source": [
    "<h1>Open Policing Project Data Analysis</h1>\n",
    "\n",
    "<div class=\"alert alert-block alert-warning\">\n",
    "<p>I've been interested in analyzing policing and crime data for the last few years (see my analysis of San Francisco drug crime <a href=\"https://nbviewer.jupyter.org/github/mkogrady/data-analysis/blob/main/sf-crime/sf-crime-analysis.ipynb\">here</a>). Recently, I stumbled upon the <a href=\"https://openpolicing.stanford.edu/\">Stanford Open Policing Project</a>, a team at Stanford that collected and open-sourced a dataset of 60 million state police patrol stops from 20 different states. Over the last few nights I've spent some time replicating <a href=\"https://5harad.com/papers/100M-stops.pdf\">their analysis</a>. I'll be adding new layers to this analysis over the next few weeks / months.</p>\n",
    "    \n",
    "<p>I went into this project with the belief that systemic racism exists and, after analyzing the data, I maintain that belief. I am not implying all police officers are racist, I am not implying that these results are 100% attributable to individual bias. I do, however, see the value in introducing policies to mitigate some of these biases. All I ask from anyone reading this is to lead with curiousity.</p>\n",
    "</div>"
   ]
  },
  {
   "cell_type": "code",
   "execution_count": 1,
   "metadata": {},
   "outputs": [],
   "source": [
    "%matplotlib inline\n",
    "\n",
    "import warnings\n",
    "warnings.filterwarnings('ignore')\n",
    "\n",
    "import astral\n",
    "import astral.sun\n",
    "import matplotlib\n",
    "import matplotlib.pyplot as plt\n",
    "import numpy as np\n",
    "import pandas as pd\n",
    "import seaborn as sns\n",
    "from sqlalchemy import create_engine\n",
    "import statsmodels.api as sm\n",
    "\n",
    "import datetime\n",
    "from dateutil import parser as date_parser\n",
    "import json\n",
    "import os\n",
    "import random"
   ]
  },
  {
   "cell_type": "markdown",
   "metadata": {},
   "source": [
    "<h2>Importing the data</h2>\n",
    "\n",
    "<div class=\"alert alert-block alert-warning\">\n",
    "    <p>Here I'm just defining some functions to help me import the data by state. The first state I look at is MA as I've lived in Massachusetts and the dataset is a reasonable size.</p>\n",
    "</div>"
   ]
  },
  {
   "cell_type": "code",
   "execution_count": 4,
   "metadata": {},
   "outputs": [],
   "source": [
    "def append_df(df1, df2):\n",
    "    if df1 is None:\n",
    "        return df2\n",
    "    return df1.append(df2, ignore_index=True)\n",
    "\n",
    "\n",
    "def read_state_df(state):\n",
    "    df = None\n",
    "    for chunk in pd.read_csv('./data/clean/{}-clean.csv.gz'.format(state), compression='gzip', low_memory=False, chunksize=1000000):\n",
    "        chunk_df = chunk.dropna(how='all')\n",
    "        df = append_df(df, chunk_df)\n",
    "    columns = []\n",
    "    for column in df.columns:\n",
    "        if len(df[~df[column].isnull()]) > 0:\n",
    "            columns.append(column)\n",
    "    return df[columns]"
   ]
  },
  {
   "cell_type": "code",
   "execution_count": 24,
   "metadata": {},
   "outputs": [],
   "source": [
    "df = read_state_df('MA')"
   ]
  },
  {
   "cell_type": "code",
   "execution_count": 25,
   "metadata": {},
   "outputs": [
    {
     "data": {
      "text/plain": [
       "3418298"
      ]
     },
     "execution_count": 25,
     "metadata": {},
     "output_type": "execute_result"
    }
   ],
   "source": [
    "len(df)"
   ]
  },
  {
   "cell_type": "markdown",
   "metadata": {},
   "source": [
    "<h2>Inspecting the dataset</h2>\n",
    "\n",
    "<div class=\"alert alert-block alert-warning\">\n",
    "<p>I just wanted to get a feel for what's included in MA's dataset so I print out the first few rows. After I identify the columns of interest, I select only those to save memory and throw out any rows where both driver gender and race are missing.</p>\n",
    "</div>"
   ]
  },
  {
   "cell_type": "code",
   "execution_count": 26,
   "metadata": {},
   "outputs": [
    {
     "data": {
      "text/html": [
       "<div>\n",
       "<style scoped>\n",
       "    .dataframe tbody tr th:only-of-type {\n",
       "        vertical-align: middle;\n",
       "    }\n",
       "\n",
       "    .dataframe tbody tr th {\n",
       "        vertical-align: top;\n",
       "    }\n",
       "\n",
       "    .dataframe thead th {\n",
       "        text-align: right;\n",
       "    }\n",
       "</style>\n",
       "<table border=\"1\" class=\"dataframe\">\n",
       "  <thead>\n",
       "    <tr style=\"text-align: right;\">\n",
       "      <th></th>\n",
       "      <th>id</th>\n",
       "      <th>state</th>\n",
       "      <th>stop_date</th>\n",
       "      <th>location_raw</th>\n",
       "      <th>county_name</th>\n",
       "      <th>county_fips</th>\n",
       "      <th>fine_grained_location</th>\n",
       "      <th>driver_gender</th>\n",
       "      <th>driver_age_raw</th>\n",
       "      <th>driver_age</th>\n",
       "      <th>driver_race_raw</th>\n",
       "      <th>driver_race</th>\n",
       "      <th>violation</th>\n",
       "      <th>search_conducted</th>\n",
       "      <th>search_type_raw</th>\n",
       "      <th>search_type</th>\n",
       "      <th>contraband_found</th>\n",
       "      <th>stop_outcome</th>\n",
       "      <th>is_arrested</th>\n",
       "      <th>out_of_state</th>\n",
       "    </tr>\n",
       "  </thead>\n",
       "  <tbody>\n",
       "    <tr>\n",
       "      <th>0</th>\n",
       "      <td>MA-2005-001</td>\n",
       "      <td>MA</td>\n",
       "      <td>2005-01-03</td>\n",
       "      <td>LEICESTER</td>\n",
       "      <td>Worcester County</td>\n",
       "      <td>25027.0</td>\n",
       "      <td>Route 9</td>\n",
       "      <td>M</td>\n",
       "      <td>NaN</td>\n",
       "      <td>NaN</td>\n",
       "      <td>White</td>\n",
       "      <td>White</td>\n",
       "      <td>NaN</td>\n",
       "      <td>False</td>\n",
       "      <td>NaN</td>\n",
       "      <td>NaN</td>\n",
       "      <td>False</td>\n",
       "      <td>Warning</td>\n",
       "      <td>False</td>\n",
       "      <td>False</td>\n",
       "    </tr>\n",
       "    <tr>\n",
       "      <th>1</th>\n",
       "      <td>MA-2005-002</td>\n",
       "      <td>MA</td>\n",
       "      <td>2005-01-03</td>\n",
       "      <td>LEICESTER</td>\n",
       "      <td>Worcester County</td>\n",
       "      <td>25027.0</td>\n",
       "      <td>Route 9</td>\n",
       "      <td>F</td>\n",
       "      <td>1964.0</td>\n",
       "      <td>41.0</td>\n",
       "      <td>White</td>\n",
       "      <td>White</td>\n",
       "      <td>NaN</td>\n",
       "      <td>False</td>\n",
       "      <td>NaN</td>\n",
       "      <td>NaN</td>\n",
       "      <td>False</td>\n",
       "      <td>Warning</td>\n",
       "      <td>False</td>\n",
       "      <td>False</td>\n",
       "    </tr>\n",
       "    <tr>\n",
       "      <th>2</th>\n",
       "      <td>MA-2005-003</td>\n",
       "      <td>MA</td>\n",
       "      <td>2005-01-03</td>\n",
       "      <td>LEICESTER</td>\n",
       "      <td>Worcester County</td>\n",
       "      <td>25027.0</td>\n",
       "      <td>Route 9</td>\n",
       "      <td>M</td>\n",
       "      <td>NaN</td>\n",
       "      <td>NaN</td>\n",
       "      <td>White</td>\n",
       "      <td>White</td>\n",
       "      <td>NaN</td>\n",
       "      <td>False</td>\n",
       "      <td>NaN</td>\n",
       "      <td>NaN</td>\n",
       "      <td>False</td>\n",
       "      <td>Warning</td>\n",
       "      <td>False</td>\n",
       "      <td>False</td>\n",
       "    </tr>\n",
       "    <tr>\n",
       "      <th>3</th>\n",
       "      <td>MA-2005-004</td>\n",
       "      <td>MA</td>\n",
       "      <td>2005-01-13</td>\n",
       "      <td>RAYNHAM</td>\n",
       "      <td>Bristol County</td>\n",
       "      <td>25005.0</td>\n",
       "      <td>Route 24</td>\n",
       "      <td>M</td>\n",
       "      <td>1955.0</td>\n",
       "      <td>50.0</td>\n",
       "      <td>White</td>\n",
       "      <td>White</td>\n",
       "      <td>NaN</td>\n",
       "      <td>False</td>\n",
       "      <td>NaN</td>\n",
       "      <td>NaN</td>\n",
       "      <td>False</td>\n",
       "      <td>Civil</td>\n",
       "      <td>False</td>\n",
       "      <td>False</td>\n",
       "    </tr>\n",
       "    <tr>\n",
       "      <th>4</th>\n",
       "      <td>MA-2005-005</td>\n",
       "      <td>MA</td>\n",
       "      <td>2005-01-16</td>\n",
       "      <td>TAUNTON</td>\n",
       "      <td>Bristol County</td>\n",
       "      <td>25005.0</td>\n",
       "      <td>Route 24</td>\n",
       "      <td>M</td>\n",
       "      <td>1958.0</td>\n",
       "      <td>47.0</td>\n",
       "      <td>White</td>\n",
       "      <td>White</td>\n",
       "      <td>Speeding</td>\n",
       "      <td>False</td>\n",
       "      <td>NaN</td>\n",
       "      <td>NaN</td>\n",
       "      <td>False</td>\n",
       "      <td>Civil</td>\n",
       "      <td>False</td>\n",
       "      <td>False</td>\n",
       "    </tr>\n",
       "  </tbody>\n",
       "</table>\n",
       "</div>"
      ],
      "text/plain": [
       "            id state   stop_date location_raw       county_name  county_fips  \\\n",
       "0  MA-2005-001    MA  2005-01-03    LEICESTER  Worcester County      25027.0   \n",
       "1  MA-2005-002    MA  2005-01-03    LEICESTER  Worcester County      25027.0   \n",
       "2  MA-2005-003    MA  2005-01-03    LEICESTER  Worcester County      25027.0   \n",
       "3  MA-2005-004    MA  2005-01-13      RAYNHAM    Bristol County      25005.0   \n",
       "4  MA-2005-005    MA  2005-01-16      TAUNTON    Bristol County      25005.0   \n",
       "\n",
       "  fine_grained_location driver_gender  driver_age_raw  driver_age  \\\n",
       "0               Route 9             M             NaN         NaN   \n",
       "1               Route 9             F          1964.0        41.0   \n",
       "2               Route 9             M             NaN         NaN   \n",
       "3              Route 24             M          1955.0        50.0   \n",
       "4              Route 24             M          1958.0        47.0   \n",
       "\n",
       "  driver_race_raw driver_race violation  search_conducted search_type_raw  \\\n",
       "0           White       White       NaN             False             NaN   \n",
       "1           White       White       NaN             False             NaN   \n",
       "2           White       White       NaN             False             NaN   \n",
       "3           White       White       NaN             False             NaN   \n",
       "4           White       White  Speeding             False             NaN   \n",
       "\n",
       "  search_type  contraband_found stop_outcome is_arrested out_of_state  \n",
       "0         NaN             False      Warning       False        False  \n",
       "1         NaN             False      Warning       False        False  \n",
       "2         NaN             False      Warning       False        False  \n",
       "3         NaN             False        Civil       False        False  \n",
       "4         NaN             False        Civil       False        False  "
      ]
     },
     "execution_count": 26,
     "metadata": {},
     "output_type": "execute_result"
    }
   ],
   "source": [
    "df.head(5)"
   ]
  },
  {
   "cell_type": "code",
   "execution_count": 27,
   "metadata": {},
   "outputs": [],
   "source": [
    "df = df[['county_name', 'county_fips', 'driver_gender', 'driver_age', 'driver_race', 'violation', 'search_conducted', 'search_type', 'contraband_found', 'stop_outcome', 'is_arrested', 'out_of_state', 'stop_date']]\n",
    "\n",
    "df['violation'] = df.violation.fillna('N/A')\n",
    "df['search_type'] = df.search_type.fillna('N/A')\n",
    "\n",
    "df = df.dropna(subset=['driver_gender', 'driver_race'])"
   ]
  },
  {
   "cell_type": "code",
   "execution_count": 28,
   "metadata": {},
   "outputs": [
    {
     "data": {
      "text/plain": [
       "3397188"
      ]
     },
     "execution_count": 28,
     "metadata": {},
     "output_type": "execute_result"
    }
   ],
   "source": [
    "len(df)"
   ]
  },
  {
   "cell_type": "markdown",
   "metadata": {},
   "source": [
    "<h2>Initial Working Dataset</h2>\n",
    "\n",
    "<div class=\"alert alert-block alert-warning\">\n",
    "<p>I print out the data again after cleaning it to make sure it looks reasonable. Then I inspect the different kinds of violations, stop outcomes, and I count the number of stops by gender and race. As expected, the most common gender in the dataset is male and the most common race is white.</p>\n",
    "</div>"
   ]
  },
  {
   "cell_type": "code",
   "execution_count": 29,
   "metadata": {},
   "outputs": [
    {
     "data": {
      "text/html": [
       "<div>\n",
       "<style scoped>\n",
       "    .dataframe tbody tr th:only-of-type {\n",
       "        vertical-align: middle;\n",
       "    }\n",
       "\n",
       "    .dataframe tbody tr th {\n",
       "        vertical-align: top;\n",
       "    }\n",
       "\n",
       "    .dataframe thead th {\n",
       "        text-align: right;\n",
       "    }\n",
       "</style>\n",
       "<table border=\"1\" class=\"dataframe\">\n",
       "  <thead>\n",
       "    <tr style=\"text-align: right;\">\n",
       "      <th></th>\n",
       "      <th>county_name</th>\n",
       "      <th>county_fips</th>\n",
       "      <th>driver_gender</th>\n",
       "      <th>driver_age</th>\n",
       "      <th>driver_race</th>\n",
       "      <th>violation</th>\n",
       "      <th>search_conducted</th>\n",
       "      <th>search_type</th>\n",
       "      <th>contraband_found</th>\n",
       "      <th>stop_outcome</th>\n",
       "      <th>is_arrested</th>\n",
       "      <th>out_of_state</th>\n",
       "      <th>stop_date</th>\n",
       "    </tr>\n",
       "  </thead>\n",
       "  <tbody>\n",
       "    <tr>\n",
       "      <th>0</th>\n",
       "      <td>Worcester County</td>\n",
       "      <td>25027.0</td>\n",
       "      <td>M</td>\n",
       "      <td>NaN</td>\n",
       "      <td>White</td>\n",
       "      <td>N/A</td>\n",
       "      <td>False</td>\n",
       "      <td>N/A</td>\n",
       "      <td>False</td>\n",
       "      <td>Warning</td>\n",
       "      <td>False</td>\n",
       "      <td>False</td>\n",
       "      <td>2005-01-03</td>\n",
       "    </tr>\n",
       "    <tr>\n",
       "      <th>1</th>\n",
       "      <td>Worcester County</td>\n",
       "      <td>25027.0</td>\n",
       "      <td>F</td>\n",
       "      <td>41.0</td>\n",
       "      <td>White</td>\n",
       "      <td>N/A</td>\n",
       "      <td>False</td>\n",
       "      <td>N/A</td>\n",
       "      <td>False</td>\n",
       "      <td>Warning</td>\n",
       "      <td>False</td>\n",
       "      <td>False</td>\n",
       "      <td>2005-01-03</td>\n",
       "    </tr>\n",
       "    <tr>\n",
       "      <th>2</th>\n",
       "      <td>Worcester County</td>\n",
       "      <td>25027.0</td>\n",
       "      <td>M</td>\n",
       "      <td>NaN</td>\n",
       "      <td>White</td>\n",
       "      <td>N/A</td>\n",
       "      <td>False</td>\n",
       "      <td>N/A</td>\n",
       "      <td>False</td>\n",
       "      <td>Warning</td>\n",
       "      <td>False</td>\n",
       "      <td>False</td>\n",
       "      <td>2005-01-03</td>\n",
       "    </tr>\n",
       "  </tbody>\n",
       "</table>\n",
       "</div>"
      ],
      "text/plain": [
       "        county_name  county_fips driver_gender  driver_age driver_race  \\\n",
       "0  Worcester County      25027.0             M         NaN       White   \n",
       "1  Worcester County      25027.0             F        41.0       White   \n",
       "2  Worcester County      25027.0             M         NaN       White   \n",
       "\n",
       "  violation  search_conducted search_type  contraband_found stop_outcome  \\\n",
       "0       N/A             False         N/A             False      Warning   \n",
       "1       N/A             False         N/A             False      Warning   \n",
       "2       N/A             False         N/A             False      Warning   \n",
       "\n",
       "  is_arrested out_of_state   stop_date  \n",
       "0       False        False  2005-01-03  \n",
       "1       False        False  2005-01-03  \n",
       "2       False        False  2005-01-03  "
      ]
     },
     "execution_count": 29,
     "metadata": {},
     "output_type": "execute_result"
    }
   ],
   "source": [
    "df.head(3)"
   ]
  },
  {
   "cell_type": "code",
   "execution_count": 30,
   "metadata": {},
   "outputs": [
    {
     "data": {
      "text/plain": [
       "N/A                   1649492\n",
       "Speeding              1519123\n",
       "Seat belt              175710\n",
       "Speeding,Seat belt      52863\n",
       "Name: violation, dtype: int64"
      ]
     },
     "execution_count": 30,
     "metadata": {},
     "output_type": "execute_result"
    }
   ],
   "source": [
    "df.violation.value_counts().head(10)"
   ]
  },
  {
   "cell_type": "code",
   "execution_count": 406,
   "metadata": {},
   "outputs": [
    {
     "data": {
      "text/plain": [
       "Civil       1937733\n",
       "Warning     1143054\n",
       "Criminal     218012\n",
       "Arrest        91921\n",
       "Void           5562\n",
       "Name: stop_outcome, dtype: int64"
      ]
     },
     "execution_count": 406,
     "metadata": {},
     "output_type": "execute_result"
    }
   ],
   "source": [
    "df.stop_outcome.value_counts()"
   ]
  },
  {
   "cell_type": "code",
   "execution_count": 407,
   "metadata": {},
   "outputs": [
    {
     "data": {
      "text/plain": [
       "M    2360082\n",
       "F    1037106\n",
       "Name: driver_gender, dtype: int64"
      ]
     },
     "execution_count": 407,
     "metadata": {},
     "output_type": "execute_result"
    }
   ],
   "source": [
    "df.driver_gender.value_counts()"
   ]
  },
  {
   "cell_type": "code",
   "execution_count": 408,
   "metadata": {},
   "outputs": [
    {
     "data": {
      "text/plain": [
       "White       2529408\n",
       "Black        351713\n",
       "Hispanic     338391\n",
       "Asian        102300\n",
       "Other         75376\n",
       "Name: driver_race, dtype: int64"
      ]
     },
     "execution_count": 408,
     "metadata": {},
     "output_type": "execute_result"
    }
   ],
   "source": [
    "df.driver_race.value_counts()"
   ]
  },
  {
   "cell_type": "markdown",
   "metadata": {},
   "source": [
    "<h2>Stop Frequency</h2>\n",
    "\n",
    "<div class=\"alert alert-block alert-warning\">\n",
    "<p>The first visualization below is stop frequency by race and age. The second is by race and year.</p>\n",
    "</div>"
   ]
  },
  {
   "cell_type": "code",
   "execution_count": 33,
   "metadata": {},
   "outputs": [
    {
     "data": {
      "image/png": "[encoded data removed]",
      "text/plain": [
       "<Figure size 1152x432 with 1 Axes>"
      ]
     },
     "metadata": {
      "needs_background": "light"
     },
     "output_type": "display_data"
    }
   ],
   "source": [
    "df = df[df.driver_race != 'Other']\n",
    "df['stop_year'] = df.stop_date.apply(lambda d: d.split(\"-\")[0])\n",
    "\n",
    "df_race_age = df.dropna(subset=('driver_race', 'driver_age'))\n",
    "driver_races = df_race_age.driver_race.unique()\n",
    "\n",
    "fig, ax = plt.subplots(figsize=(16,6))\n",
    "ax.set_xlim(12, 80)\n",
    "for race in driver_races:\n",
    "    s = df_race_age[df_race_age.driver_race == race].driver_age\n",
    "    sns.kdeplot(data=s, shade=False, label=race, color=dict(White='r', Black='gold', Hispanic='b', Asian='g')[race], linewidth=2.2)\n",
    "_ = ax.legend()"
   ]
  },
  {
   "cell_type": "code",
   "execution_count": 39,
   "metadata": {},
   "outputs": [
    {
     "data": {
      "image/png": "[encoded data removed]",
      "text/plain": [
       "<Figure size 1152x432 with 1 Axes>"
      ]
     },
     "metadata": {
      "needs_background": "light"
     },
     "output_type": "display_data"
    }
   ],
   "source": [
    "fig, ax = plt.subplots(figsize=(16,6))\n",
    "for race in driver_races:\n",
    "    s = df[df.driver_race == race].groupby('stop_year').count()['driver_age']\n",
    "    sns.lineplot(data=s, label=race, color=dict(White='r', Black='gold', Hispanic='b', Asian='g')[race], linewidth=2.2)\n",
    "_ = ax.legend()"
   ]
  },
  {
   "cell_type": "markdown",
   "metadata": {},
   "source": [
    "<h2>Stops by County</h2>\n",
    "\n",
    "<div class=\"alert alert-block alert-warning\">\n",
    "<p>Next I wanted to visualize the data on a map by county as I noticed the dataset included the county identifier (fips code). In order to do this, I needed access to the geometries of Massachusetts counties. Luckily, the government has a free dataset available so I downloaded it and transformed it into a GeoJSON feature collection. Then I merged the number of traffic stops in each county with the county geometries and used <a href=\"https://kepler.gl/\">https://kepler.gl/</a> to display them on a map.</p>\n",
    "\n",
    "<p>The most stops occur in/around Boston and Worcester which is more or less what I expected. Springfield also has a high number of stops.</p>\n",
    "</div>"
   ]
  },
  {
   "cell_type": "code",
   "execution_count": 613,
   "metadata": {},
   "outputs": [
    {
     "data": {
      "text/plain": [
       "array([nan, 'Plymouth County', 'Berkshire County', 'Franklin County',\n",
       "       'Suffolk County', 'Essex County', 'Bristol County',\n",
       "       'Hampden County', 'Norfolk County', 'Worcester County',\n",
       "       'Barnstable County', 'Middlesex County', 'Dukes County',\n",
       "       'Hampshire County', 'Nantucket County'], dtype=object)"
      ]
     },
     "execution_count": 613,
     "metadata": {},
     "output_type": "execute_result"
    }
   ],
   "source": [
    "df.county_name.unique()"
   ]
  },
  {
   "cell_type": "code",
   "execution_count": 595,
   "metadata": {},
   "outputs": [],
   "source": [
    "def get_county_features():\n",
    "    with open('/Users/matthew/Desktop/acs/data/county_polygons.geojson') as f:\n",
    "        polygons = json.load(f)\n",
    "    return polygons\n",
    "\n",
    "\n",
    "def apply_stops_to_features(counties, df):\n",
    "    feature_collection = {'type': 'FeatureCollection', 'features': []}\n",
    "    stops_by_fips = df.groupby('fips').count()[['id']].to_dict('index')\n",
    "    for feature in counties['features']:\n",
    "        stops = stops_by_fips.get(feature['properties']['fips'], {}).get('id')\n",
    "        if stops is not None:\n",
    "            feature['properties']['num_stops'] = stops\n",
    "            feature_collection['features'].append(feature)\n",
    "    return feature_collection\n",
    "\n",
    "\n",
    "county_features = apply_stops_to_features(get_county_features(), df)\n",
    "with open('county_features.geojson', 'w') as f:\n",
    "    json.dump(county_features, f)"
   ]
  },
  {
   "cell_type": "markdown",
   "metadata": {},
   "source": [
    "<img src=\"ma-traffic-stops.png\" />"
   ]
  },
  {
   "cell_type": "markdown",
   "metadata": {},
   "source": [
    "<h2>Stop Rate Per Capita</h2>\n",
    "\n",
    "<div class=\"alert alert-block alert-warning\">\n",
    "<p>Next I wanted to calculate stop rates for each race but I knew these rates would only be meaningful when compared against the demographics of Massachusetts. I went to <a href=\"https://data.census.gov/cedsci/\">https://data.census.gov/cedsci/</a> to download demographic information for each county in Massachusetts. I downloaded the data from the ACS website and uploaded it into a local PostgreSQL database, partioning it by year. Below I define some functions for reading this data in and using it to calculate stop rates.</p>\n",
    "</div>"
   ]
  },
  {
   "cell_type": "code",
   "execution_count": 42,
   "metadata": {},
   "outputs": [],
   "source": [
    "#convert fips column to a string for ease of use\n",
    "df['fips'] = df.county_fips.apply(lambda x: None if np.isnan(x) else str(int(x)))"
   ]
  },
  {
   "cell_type": "code",
   "execution_count": 5,
   "metadata": {},
   "outputs": [],
   "source": [
    "CENSUS_CODE_HISPANIC_POP = 'B03002_012E'\n",
    "CENSUS_CODE_BLACK_POP = 'B03002_004E'\n",
    "CENSUS_CODE_ASIAN_POP = 'B03002_006E'\n",
    "CENSUS_CODE_WHITE_POP = 'B03002_003E'\n",
    "\n",
    "ALL_CENSUS_CODES = (CENSUS_CODE_BLACK_POP,\n",
    "                    CENSUS_CODE_ASIAN_POP,\n",
    "                    CENSUS_CODE_HISPANIC_POP,\n",
    "                    CENSUS_CODE_WHITE_POP)\n",
    "\n",
    "ENGINE = None\n",
    "\n",
    "\n",
    "def get_engine():\n",
    "    global ENGINE\n",
    "    if ENGINE is None:\n",
    "        ENGINE = create_engine('postgresql://postgres@localhost/census')\n",
    "    return ENGINE\n",
    "\n",
    "\n",
    "def read_county_population_data(eng, year, fips='*'):\n",
    "    select = \",\".join(['c.geoid AS fips', 'pop.name'] + list(ALL_CENSUS_CODES))\n",
    "    qry = \"\"\"SELECT\n",
    "{select}\n",
    "FROM\n",
    "  county c\n",
    "LEFT JOIN\n",
    "  county_b03_{year} pop\n",
    "  ON c.affgeoid = pop.geoid\n",
    "\"\"\".format(select=select, year=year)\n",
    "    if fips != '*':\n",
    "        where = \" WHERE c.geoid IN({})\".format(\", \".join([\"'{}'\".format(f) for f in fips]))\n",
    "        qry += where\n",
    "    df = pd.read_sql(qry, eng, index_col='fips')\n",
    "    return df\n",
    "    \n",
    "    \n",
    "def read_population_data(eng, fips='*'):\n",
    "    data = {}\n",
    "    for year in range(2011, 2016): # these are the only years I downloaded the demographics data for\n",
    "        df_population = read_county_population_data(eng, year, fips=fips)\n",
    "        data[str(year)] = df_population\n",
    "    return data\n",
    "\n",
    "\n",
    "def get_population_data_for_df(df):\n",
    "    engine = get_engine()\n",
    "    fips = df[~df.fips.isnull()].fips.unique().tolist()\n",
    "    pop_data_by_year = read_population_data(engine, fips=fips)\n",
    "    return pop_data_by_year\n",
    "\n",
    "    \n",
    "def compute_stop_rates(df, pop_data):\n",
    "    \n",
    "    def compute_stop_rate(driver_race, census_code):\n",
    "        # compute stop rate using the county population\n",
    "        pop = pop_data.get(census_code.lower(), 0)\n",
    "        if pop <= 20:\n",
    "            return None\n",
    "        return len(df[df.driver_race == driver_race]) / pop\n",
    "\n",
    "    return dict(white_stop_rate=compute_stop_rate('White', CENSUS_CODE_WHITE_POP), \n",
    "                asian_stop_rate=compute_stop_rate('Asian', CENSUS_CODE_ASIAN_POP), \n",
    "                hispanic_stop_rate=compute_stop_rate('Hispanic', CENSUS_CODE_HISPANIC_POP), \n",
    "                black_stop_rate=compute_stop_rate('Black', CENSUS_CODE_BLACK_POP))"
   ]
  },
  {
   "cell_type": "markdown",
   "metadata": {},
   "source": [
    "<div class=\"alert alert-block alert-warning\">\n",
    "<p>Below I read in the demographic data and then group by dataframe by county fips and year so that I can compare the number of stops to the individual county's population for that year.</p>\n",
    "</div>"
   ]
  },
  {
   "cell_type": "code",
   "execution_count": 6,
   "metadata": {},
   "outputs": [],
   "source": [
    "\n",
    "def stop_rates_per_capita(df):\n",
    "    population_data = get_population_data_for_df(df)\n",
    "\n",
    "    all_stop_rates = []\n",
    "    for group, df_group in df.groupby(['fips', 'stop_year']):\n",
    "        fips = group[0]\n",
    "        year = group[1]\n",
    "        if year not in population_data:\n",
    "            continue\n",
    "        # filter population data by this year and county fips code\n",
    "        df_population = population_data[year]\n",
    "        df_pop_fips = df_population[df_population.index == fips]\n",
    "        fips_pop_data = df_pop_fips.to_dict('records')[0] if len(df_pop_fips) == 1 else {}\n",
    "        # compute stop rates against this county's population\n",
    "        stop_rates = compute_stop_rates(df_group, fips_pop_data)\n",
    "        stop_rates['fips'] = fips\n",
    "        stop_rates['year'] = year\n",
    "        all_stop_rates.append(stop_rates)\n",
    "\n",
    "    return pd.DataFrame(all_stop_rates)\n"
   ]
  },
  {
   "cell_type": "code",
   "execution_count": 46,
   "metadata": {},
   "outputs": [
    {
     "data": {
      "image/png": "[encoded data removed]",
      "text/plain": [
       "<Figure size 1008x288 with 1 Axes>"
      ]
     },
     "metadata": {
      "needs_background": "light"
     },
     "output_type": "display_data"
    }
   ],
   "source": [
    "df_stop_rates = stop_rates_per_capita(df)\n",
    "avg_stop_rates = df_stop_rates[['asian_stop_rate', 'black_stop_rate', 'hispanic_stop_rate', 'white_stop_rate']].mean().reset_index()\n",
    "avg_stop_rates['driver_race'] = avg_stop_rates['index'].apply(lambda x: x.split('_')[0].capitalize())\n",
    "avg_stop_rates['stop_rate'] = avg_stop_rates[0]\n",
    "\n",
    "fig, axes = plt.subplots(figsize=(14, 4))\n",
    "_ = sns.barplot(data=avg_stop_rates, \n",
    "                x='driver_race', \n",
    "                y='stop_rate', \n",
    "                color='gray', \n",
    "                ax=axes).set_title('Stop Rates by Race')"
   ]
  },
  {
   "cell_type": "markdown",
   "metadata": {},
   "source": [
    "<div class=\"alert alert-block alert-warning\">\n",
    "<p>I think it's pretty clear from the graph above that black and hispanic drivers are stopped more frequently than white drivers relative to their share of the city's population. Let's compare the stop rate of white drivers with black and hispanic drivers directly:</p>\n",
    "</div>"
   ]
  },
  {
   "cell_type": "code",
   "execution_count": 646,
   "metadata": {},
   "outputs": [
    {
     "data": {
      "text/plain": [
       "(2.4, 1.2)"
      ]
     },
     "execution_count": 646,
     "metadata": {},
     "output_type": "execute_result"
    }
   ],
   "source": [
    "black_stop_rate = avg_stop_rates[avg_stop_rates.driver_race == 'Black'].iloc[0]['stop_rate']\n",
    "hispanic_stop_rate = avg_stop_rates[avg_stop_rates.driver_race == 'Hispanic'].iloc[0]['stop_rate']\n",
    "white_stop_rate = avg_stop_rates[avg_stop_rates.driver_race == 'White'].iloc[0]['stop_rate']\n",
    "\n",
    "compare_stop_rate = lambda r: round(r / white_stop_rate, 1)\n",
    "\n",
    "compare_stop_rate(black_stop_rate), compare_stop_rate(hispanic_stop_rate)"
   ]
  },
  {
   "cell_type": "markdown",
   "metadata": {},
   "source": [
    "<div class=\"alert alert-block alert-warning\">\n",
    "<p>Black drivers are stopped at a rate <b>2.4 times higher</b> than white drivers, Hispanic drivers are stopped at a rate <b>1.2 times higher</b> than white drivers.</p>\n",
    "</div>"
   ]
  },
  {
   "cell_type": "markdown",
   "metadata": {},
   "source": [
    "<h2>Stop Outcomes</h2>\n",
    "\n",
    "<div class=\"alert alert-block alert-warning\">\n",
    "<p>Now that I've looked at stop rates, I want to look at the rates of different stop outcomes. These rates are much easier to analyze because our baseline population is the stopped population rather than the external county population. Below I'll define a function for computing stop outcomes for Massachusetts and then visualize these different outcomes per gender and race.</p>\n",
    "</div>"
   ]
  },
  {
   "cell_type": "code",
   "execution_count": 651,
   "metadata": {},
   "outputs": [],
   "source": [
    "\n",
    "def ma_stop_outcomes(df):\n",
    "    warnings = len(df[df.stop_outcome == 'Warning'])\n",
    "    civil_citations = len(df[df.stop_outcome == 'Civil'])\n",
    "    criminal_citations = len(df[df.stop_outcome == 'Criminal'])\n",
    "    citations = civil_citations + criminal_citations\n",
    "    arrests = len(df[df.stop_outcome == 'Arrest'])\n",
    "    citations_per_warning = citations / warnings\n",
    "    civil_citations_per_warning = civil_citations / warnings\n",
    "    criminal_citations_per_warning = criminal_citations / warnings\n",
    "    arrest_rate = arrests / len(df)\n",
    "    warning_rate = warnings / len(df)\n",
    "    return pd.Series(data=dict(\n",
    "        warning_rate=warning_rate,\n",
    "        citations_per_warning=citations_per_warning,\n",
    "        criminal_citations_per_warning=criminal_citations_per_warning,\n",
    "        civil_citations_per_warning=civil_citations_per_warning, \n",
    "        arrest_rate=arrest_rate))\n",
    "    "
   ]
  },
  {
   "cell_type": "code",
   "execution_count": 652,
   "metadata": {},
   "outputs": [
    {
     "data": {
      "text/html": [
       "<div>\n",
       "<style scoped>\n",
       "    .dataframe tbody tr th:only-of-type {\n",
       "        vertical-align: middle;\n",
       "    }\n",
       "\n",
       "    .dataframe tbody tr th {\n",
       "        vertical-align: top;\n",
       "    }\n",
       "\n",
       "    .dataframe thead th {\n",
       "        text-align: right;\n",
       "    }\n",
       "</style>\n",
       "<table border=\"1\" class=\"dataframe\">\n",
       "  <thead>\n",
       "    <tr style=\"text-align: right;\">\n",
       "      <th></th>\n",
       "      <th>warning_rate</th>\n",
       "      <th>citations_per_warning</th>\n",
       "      <th>criminal_citations_per_warning</th>\n",
       "      <th>civil_citations_per_warning</th>\n",
       "      <th>arrest_rate</th>\n",
       "    </tr>\n",
       "    <tr>\n",
       "      <th>driver_gender</th>\n",
       "      <th></th>\n",
       "      <th></th>\n",
       "      <th></th>\n",
       "      <th></th>\n",
       "      <th></th>\n",
       "    </tr>\n",
       "  </thead>\n",
       "  <tbody>\n",
       "    <tr>\n",
       "      <th>F</th>\n",
       "      <td>0.375891</td>\n",
       "      <td>1.61512</td>\n",
       "      <td>0.142252</td>\n",
       "      <td>1.472868</td>\n",
       "      <td>0.015391</td>\n",
       "    </tr>\n",
       "    <tr>\n",
       "      <th>M</th>\n",
       "      <td>0.320670</td>\n",
       "      <td>2.01058</td>\n",
       "      <td>0.217461</td>\n",
       "      <td>1.793119</td>\n",
       "      <td>0.032591</td>\n",
       "    </tr>\n",
       "  </tbody>\n",
       "</table>\n",
       "</div>"
      ],
      "text/plain": [
       "               warning_rate  citations_per_warning  \\\n",
       "driver_gender                                        \n",
       "F                  0.375891                1.61512   \n",
       "M                  0.320670                2.01058   \n",
       "\n",
       "               criminal_citations_per_warning  civil_citations_per_warning  \\\n",
       "driver_gender                                                                \n",
       "F                                    0.142252                     1.472868   \n",
       "M                                    0.217461                     1.793119   \n",
       "\n",
       "               arrest_rate  \n",
       "driver_gender               \n",
       "F                 0.015391  \n",
       "M                 0.032591  "
      ]
     },
     "execution_count": 652,
     "metadata": {},
     "output_type": "execute_result"
    }
   ],
   "source": [
    "df.groupby('driver_gender').apply(ma_stop_outcomes)"
   ]
  },
  {
   "cell_type": "code",
   "execution_count": 653,
   "metadata": {},
   "outputs": [
    {
     "data": {
      "text/html": [
       "<div>\n",
       "<style scoped>\n",
       "    .dataframe tbody tr th:only-of-type {\n",
       "        vertical-align: middle;\n",
       "    }\n",
       "\n",
       "    .dataframe tbody tr th {\n",
       "        vertical-align: top;\n",
       "    }\n",
       "\n",
       "    .dataframe thead th {\n",
       "        text-align: right;\n",
       "    }\n",
       "</style>\n",
       "<table border=\"1\" class=\"dataframe\">\n",
       "  <thead>\n",
       "    <tr style=\"text-align: right;\">\n",
       "      <th></th>\n",
       "      <th>warning_rate</th>\n",
       "      <th>citations_per_warning</th>\n",
       "      <th>criminal_citations_per_warning</th>\n",
       "      <th>civil_citations_per_warning</th>\n",
       "      <th>arrest_rate</th>\n",
       "    </tr>\n",
       "    <tr>\n",
       "      <th>driver_race</th>\n",
       "      <th></th>\n",
       "      <th></th>\n",
       "      <th></th>\n",
       "      <th></th>\n",
       "      <th></th>\n",
       "    </tr>\n",
       "  </thead>\n",
       "  <tbody>\n",
       "    <tr>\n",
       "      <th>Asian</th>\n",
       "      <td>0.286380</td>\n",
       "      <td>2.421813</td>\n",
       "      <td>0.152791</td>\n",
       "      <td>2.269022</td>\n",
       "      <td>0.018554</td>\n",
       "    </tr>\n",
       "    <tr>\n",
       "      <th>Black</th>\n",
       "      <td>0.319141</td>\n",
       "      <td>2.018224</td>\n",
       "      <td>0.348854</td>\n",
       "      <td>1.669370</td>\n",
       "      <td>0.034769</td>\n",
       "    </tr>\n",
       "    <tr>\n",
       "      <th>Hispanic</th>\n",
       "      <td>0.278310</td>\n",
       "      <td>2.371985</td>\n",
       "      <td>0.589770</td>\n",
       "      <td>1.782215</td>\n",
       "      <td>0.059367</td>\n",
       "    </tr>\n",
       "    <tr>\n",
       "      <th>White</th>\n",
       "      <td>0.350707</td>\n",
       "      <td>1.782059</td>\n",
       "      <td>0.130405</td>\n",
       "      <td>1.651654</td>\n",
       "      <td>0.022350</td>\n",
       "    </tr>\n",
       "  </tbody>\n",
       "</table>\n",
       "</div>"
      ],
      "text/plain": [
       "             warning_rate  citations_per_warning  \\\n",
       "driver_race                                        \n",
       "Asian            0.286380               2.421813   \n",
       "Black            0.319141               2.018224   \n",
       "Hispanic         0.278310               2.371985   \n",
       "White            0.350707               1.782059   \n",
       "\n",
       "             criminal_citations_per_warning  civil_citations_per_warning  \\\n",
       "driver_race                                                                \n",
       "Asian                              0.152791                     2.269022   \n",
       "Black                              0.348854                     1.669370   \n",
       "Hispanic                           0.589770                     1.782215   \n",
       "White                              0.130405                     1.651654   \n",
       "\n",
       "             arrest_rate  \n",
       "driver_race               \n",
       "Asian           0.018554  \n",
       "Black           0.034769  \n",
       "Hispanic        0.059367  \n",
       "White           0.022350  "
      ]
     },
     "execution_count": 653,
     "metadata": {},
     "output_type": "execute_result"
    }
   ],
   "source": [
    "df.groupby('driver_race').apply(ma_stop_outcomes)"
   ]
  },
  {
   "cell_type": "code",
   "execution_count": 655,
   "metadata": {},
   "outputs": [
    {
     "data": {
      "text/html": [
       "<div>\n",
       "<style scoped>\n",
       "    .dataframe tbody tr th:only-of-type {\n",
       "        vertical-align: middle;\n",
       "    }\n",
       "\n",
       "    .dataframe tbody tr th {\n",
       "        vertical-align: top;\n",
       "    }\n",
       "\n",
       "    .dataframe thead th {\n",
       "        text-align: right;\n",
       "    }\n",
       "</style>\n",
       "<table border=\"1\" class=\"dataframe\">\n",
       "  <thead>\n",
       "    <tr style=\"text-align: right;\">\n",
       "      <th></th>\n",
       "      <th></th>\n",
       "      <th>warning_rate</th>\n",
       "      <th>citations_per_warning</th>\n",
       "      <th>arrest_rate</th>\n",
       "    </tr>\n",
       "    <tr>\n",
       "      <th>driver_race</th>\n",
       "      <th>driver_gender</th>\n",
       "      <th></th>\n",
       "      <th></th>\n",
       "      <th></th>\n",
       "    </tr>\n",
       "  </thead>\n",
       "  <tbody>\n",
       "    <tr>\n",
       "      <th rowspan=\"2\" valign=\"top\">Asian</th>\n",
       "      <th>F</th>\n",
       "      <td>0.315076</td>\n",
       "      <td>2.136168</td>\n",
       "      <td>0.010577</td>\n",
       "    </tr>\n",
       "    <tr>\n",
       "      <th>M</th>\n",
       "      <td>0.274388</td>\n",
       "      <td>2.559044</td>\n",
       "      <td>0.021888</td>\n",
       "    </tr>\n",
       "    <tr>\n",
       "      <th rowspan=\"2\" valign=\"top\">Black</th>\n",
       "      <th>F</th>\n",
       "      <td>0.342888</td>\n",
       "      <td>1.867778</td>\n",
       "      <td>0.014742</td>\n",
       "    </tr>\n",
       "    <tr>\n",
       "      <th>M</th>\n",
       "      <td>0.310205</td>\n",
       "      <td>2.080851</td>\n",
       "      <td>0.042322</td>\n",
       "    </tr>\n",
       "    <tr>\n",
       "      <th rowspan=\"2\" valign=\"top\">Hispanic</th>\n",
       "      <th>F</th>\n",
       "      <td>0.315793</td>\n",
       "      <td>2.085149</td>\n",
       "      <td>0.023920</td>\n",
       "    </tr>\n",
       "    <tr>\n",
       "      <th>M</th>\n",
       "      <td>0.266987</td>\n",
       "      <td>2.474684</td>\n",
       "      <td>0.070082</td>\n",
       "    </tr>\n",
       "    <tr>\n",
       "      <th rowspan=\"2\" valign=\"top\">White</th>\n",
       "      <th>F</th>\n",
       "      <td>0.388336</td>\n",
       "      <td>1.532833</td>\n",
       "      <td>0.014852</td>\n",
       "    </tr>\n",
       "    <tr>\n",
       "      <th>M</th>\n",
       "      <td>0.332744</td>\n",
       "      <td>1.921354</td>\n",
       "      <td>0.025940</td>\n",
       "    </tr>\n",
       "  </tbody>\n",
       "</table>\n",
       "</div>"
      ],
      "text/plain": [
       "                           warning_rate  citations_per_warning  arrest_rate\n",
       "driver_race driver_gender                                                  \n",
       "Asian       F                  0.315076               2.136168     0.010577\n",
       "            M                  0.274388               2.559044     0.021888\n",
       "Black       F                  0.342888               1.867778     0.014742\n",
       "            M                  0.310205               2.080851     0.042322\n",
       "Hispanic    F                  0.315793               2.085149     0.023920\n",
       "            M                  0.266987               2.474684     0.070082\n",
       "White       F                  0.388336               1.532833     0.014852\n",
       "            M                  0.332744               1.921354     0.025940"
      ]
     },
     "execution_count": 655,
     "metadata": {},
     "output_type": "execute_result"
    }
   ],
   "source": [
    "df.groupby(['driver_race', 'driver_gender']).apply(ma_stop_outcomes)[['warning_rate', 'citations_per_warning', 'arrest_rate']]"
   ]
  },
  {
   "cell_type": "markdown",
   "metadata": {},
   "source": [
    "<div class=\"alert alert-block alert-warning\">\n",
    "<p>You'll notice white women drivers are the most likely to receive warnings. The arrest rate is highest for hispanic drivers followed by black drivers. Asian drivers are the most likely to receive a citation but the least likely to be arrested.</p>\n",
    "</div>"
   ]
  },
  {
   "cell_type": "markdown",
   "metadata": {},
   "source": [
    "<div class=\"alert alert-block alert-warning\">\n",
    "<p>Now let's visualize these results. I also wanted to visualize the warning and arrest rates for the most common violations in the dataset (Speeding and Seatbelt). You'll notice white drivers are most likely to be let off with a warning. Hispanic and black drivers are the most likely to be arrested when the initial violation is Speeding or Seatbelt.</p>\n",
    "</div>"
   ]
  },
  {
   "cell_type": "code",
   "execution_count": 447,
   "metadata": {},
   "outputs": [
    {
     "data": {
      "image/png": "[encoded data removed]",
      "text/plain": [
       "<Figure size 1440x864 with 4 Axes>"
      ]
     },
     "metadata": {
      "needs_background": "light"
     },
     "output_type": "display_data"
    }
   ],
   "source": [
    "outcomes_by_race = df.groupby('driver_race').apply(ma_stop_outcomes).reset_index()\n",
    "\n",
    "fig, axes = plt.subplots(nrows=2, ncols=2, figsize=(20, 12))\n",
    "fig.tight_layout(pad=10.0)\n",
    "\n",
    "sns.barplot(data=outcomes_by_race, \n",
    "            x='driver_race', \n",
    "            y='civil_citations_per_warning', \n",
    "            color='gray', \n",
    "            ax=axes[0, 0]).set_title('Civil Citations Per Warning')\n",
    "sns.barplot(data=outcomes_by_race, \n",
    "            x='driver_race', \n",
    "            y='criminal_citations_per_warning', \n",
    "            color='gray', \n",
    "            ax=axes[0, 1]).set_title('Criminal Citations Per Warning')\n",
    "sns.barplot(data=outcomes_by_race, \n",
    "            x='driver_race', \n",
    "            y='citations_per_warning', \n",
    "            color='gray', \n",
    "            ax=axes[1, 0]).set_title('Citations Per Warning')\n",
    "_ = sns.barplot(data=outcomes_by_race, \n",
    "                x='driver_race', \n",
    "                y='arrest_rate', \n",
    "                color='gray', \n",
    "                ax=axes[1, 1]).set_title('Arrest Rate')"
   ]
  },
  {
   "cell_type": "code",
   "execution_count": 448,
   "metadata": {},
   "outputs": [
    {
     "data": {
      "image/png": "[encoded data removed]",
      "text/plain": [
       "<Figure size 1152x432 with 2 Axes>"
      ]
     },
     "metadata": {
      "needs_background": "light"
     },
     "output_type": "display_data"
    }
   ],
   "source": [
    "violation_outcomes = df[df.violation.isin(['Seat belt', 'Speeding'])].\\\n",
    "    groupby(['violation', 'driver_race']).apply(ma_stop_outcomes).reset_index()\n",
    "\n",
    "\n",
    "fig, axes = plt.subplots(nrows=1, ncols=2, figsize=(16, 6))\n",
    "fig.tight_layout(pad=10.0)\n",
    "\n",
    "sns.barplot(data=violation_outcomes, \n",
    "            x='driver_race', \n",
    "            y='warning_rate', \n",
    "            hue='violation',\n",
    "            ax=axes[0]).set_title('Warning Rate')\n",
    "_ = sns.barplot(data=violation_outcomes, \n",
    "            x='driver_race', \n",
    "            y='arrest_rate',\n",
    "            hue='violation',\n",
    "            ax=axes[1]).set_title('Arrest Rate')"
   ]
  },
  {
   "cell_type": "markdown",
   "metadata": {},
   "source": [
    "<h2>Outcome Test</h2>\n",
    "\n",
    "<div class=\"alert alert-block alert-warning\">\n",
    "<p>Now that we've looked at stop rates and stop outcomes, we can do something a little more interesting. Now we will analyze the searches. We know a search of a driver was \"successful\" when it uncovers contraband. We can use our \"search_conducted\" and \"contraband_found\" columns to analyze the search and \"success\" rates among different driver races. Below I define a function for computing search and hit rates and then I use it to compute these rates by gender, age, and race. You'll notice the search rate and hit rate trends downward as driver age increases.</p>\n",
    "</div>"
   ]
  },
  {
   "cell_type": "code",
   "execution_count": 220,
   "metadata": {},
   "outputs": [],
   "source": [
    "def search_and_hit_rates(df):\n",
    "    search_conducted = df.search_conducted\n",
    "    contraband_found = df.contraband_found\n",
    "    stops = len(df)\n",
    "    searches = df.search_conducted.sum()\n",
    "    hits = df.contraband_found.sum()\n",
    "    search_rate = searches / stops if stops >= 50 else None\n",
    "    hit_rate = hits / searches if searches >= 5 else None\n",
    "        \n",
    "    return pd.Series(data=dict(stops=stops, \n",
    "                               searches=searches, \n",
    "                               hits=hits, \n",
    "                               search_rate=search_rate, \n",
    "                               hit_rate=hit_rate))"
   ]
  },
  {
   "cell_type": "code",
   "execution_count": 450,
   "metadata": {},
   "outputs": [
    {
     "data": {
      "text/html": [
       "<div>\n",
       "<style scoped>\n",
       "    .dataframe tbody tr th:only-of-type {\n",
       "        vertical-align: middle;\n",
       "    }\n",
       "\n",
       "    .dataframe tbody tr th {\n",
       "        vertical-align: top;\n",
       "    }\n",
       "\n",
       "    .dataframe thead th {\n",
       "        text-align: right;\n",
       "    }\n",
       "</style>\n",
       "<table border=\"1\" class=\"dataframe\">\n",
       "  <thead>\n",
       "    <tr style=\"text-align: right;\">\n",
       "      <th></th>\n",
       "      <th>stops</th>\n",
       "      <th>searches</th>\n",
       "      <th>hits</th>\n",
       "      <th>search_rate</th>\n",
       "      <th>hit_rate</th>\n",
       "    </tr>\n",
       "    <tr>\n",
       "      <th>driver_gender</th>\n",
       "      <th></th>\n",
       "      <th></th>\n",
       "      <th></th>\n",
       "      <th></th>\n",
       "      <th></th>\n",
       "    </tr>\n",
       "  </thead>\n",
       "  <tbody>\n",
       "    <tr>\n",
       "      <th>F</th>\n",
       "      <td>1022606.0</td>\n",
       "      <td>9980.0</td>\n",
       "      <td>4531.0</td>\n",
       "      <td>0.009759</td>\n",
       "      <td>0.454008</td>\n",
       "    </tr>\n",
       "    <tr>\n",
       "      <th>M</th>\n",
       "      <td>2299206.0</td>\n",
       "      <td>45643.0</td>\n",
       "      <td>23236.0</td>\n",
       "      <td>0.019852</td>\n",
       "      <td>0.509081</td>\n",
       "    </tr>\n",
       "  </tbody>\n",
       "</table>\n",
       "</div>"
      ],
      "text/plain": [
       "                   stops  searches     hits  search_rate  hit_rate\n",
       "driver_gender                                                     \n",
       "F              1022606.0    9980.0   4531.0     0.009759  0.454008\n",
       "M              2299206.0   45643.0  23236.0     0.019852  0.509081"
      ]
     },
     "execution_count": 450,
     "metadata": {},
     "output_type": "execute_result"
    }
   ],
   "source": [
    "df.groupby('driver_gender').apply(search_and_hit_rates)"
   ]
  },
  {
   "cell_type": "code",
   "execution_count": 451,
   "metadata": {},
   "outputs": [
    {
     "data": {
      "text/html": [
       "<div>\n",
       "<style scoped>\n",
       "    .dataframe tbody tr th:only-of-type {\n",
       "        vertical-align: middle;\n",
       "    }\n",
       "\n",
       "    .dataframe tbody tr th {\n",
       "        vertical-align: top;\n",
       "    }\n",
       "\n",
       "    .dataframe thead th {\n",
       "        text-align: right;\n",
       "    }\n",
       "</style>\n",
       "<table border=\"1\" class=\"dataframe\">\n",
       "  <thead>\n",
       "    <tr style=\"text-align: right;\">\n",
       "      <th></th>\n",
       "      <th>stops</th>\n",
       "      <th>searches</th>\n",
       "      <th>hits</th>\n",
       "      <th>search_rate</th>\n",
       "      <th>hit_rate</th>\n",
       "    </tr>\n",
       "    <tr>\n",
       "      <th>driver_age</th>\n",
       "      <th></th>\n",
       "      <th></th>\n",
       "      <th></th>\n",
       "      <th></th>\n",
       "      <th></th>\n",
       "    </tr>\n",
       "  </thead>\n",
       "  <tbody>\n",
       "    <tr>\n",
       "      <th>(15, 25]</th>\n",
       "      <td>845003.0</td>\n",
       "      <td>22371.0</td>\n",
       "      <td>12864.0</td>\n",
       "      <td>0.026474</td>\n",
       "      <td>0.575030</td>\n",
       "    </tr>\n",
       "    <tr>\n",
       "      <th>(25, 35]</th>\n",
       "      <td>879312.0</td>\n",
       "      <td>17635.0</td>\n",
       "      <td>8293.0</td>\n",
       "      <td>0.020055</td>\n",
       "      <td>0.470258</td>\n",
       "    </tr>\n",
       "    <tr>\n",
       "      <th>(35, 45]</th>\n",
       "      <td>623331.0</td>\n",
       "      <td>8583.0</td>\n",
       "      <td>3718.0</td>\n",
       "      <td>0.013770</td>\n",
       "      <td>0.433182</td>\n",
       "    </tr>\n",
       "    <tr>\n",
       "      <th>(45, 55]</th>\n",
       "      <td>498883.0</td>\n",
       "      <td>4726.0</td>\n",
       "      <td>1993.0</td>\n",
       "      <td>0.009473</td>\n",
       "      <td>0.421710</td>\n",
       "    </tr>\n",
       "    <tr>\n",
       "      <th>(55, 65]</th>\n",
       "      <td>246028.0</td>\n",
       "      <td>1380.0</td>\n",
       "      <td>536.0</td>\n",
       "      <td>0.005609</td>\n",
       "      <td>0.388406</td>\n",
       "    </tr>\n",
       "    <tr>\n",
       "      <th>(65, 75]</th>\n",
       "      <td>69810.0</td>\n",
       "      <td>245.0</td>\n",
       "      <td>63.0</td>\n",
       "      <td>0.003510</td>\n",
       "      <td>0.257143</td>\n",
       "    </tr>\n",
       "  </tbody>\n",
       "</table>\n",
       "</div>"
      ],
      "text/plain": [
       "               stops  searches     hits  search_rate  hit_rate\n",
       "driver_age                                                    \n",
       "(15, 25]    845003.0   22371.0  12864.0     0.026474  0.575030\n",
       "(25, 35]    879312.0   17635.0   8293.0     0.020055  0.470258\n",
       "(35, 45]    623331.0    8583.0   3718.0     0.013770  0.433182\n",
       "(45, 55]    498883.0    4726.0   1993.0     0.009473  0.421710\n",
       "(55, 65]    246028.0    1380.0    536.0     0.005609  0.388406\n",
       "(65, 75]     69810.0     245.0     63.0     0.003510  0.257143"
      ]
     },
     "execution_count": 451,
     "metadata": {},
     "output_type": "execute_result"
    }
   ],
   "source": [
    "age_groups = pd.cut(df.driver_age, np.arange(15, 85, 10))\n",
    "df.groupby(age_groups).apply(search_and_hit_rates)"
   ]
  },
  {
   "cell_type": "markdown",
   "metadata": {},
   "source": [
    "<div class=\"alert alert-block alert-warning\">\n",
    "<p>Here I compute the search rate and hit rate by driver race. Notice that black and hispanic drivers are searched at a higher rate than white drivers despite contraband being found at the highest rate among white drivers.</p>\n",
    "</div>"
   ]
  },
  {
   "cell_type": "code",
   "execution_count": 452,
   "metadata": {},
   "outputs": [
    {
     "data": {
      "text/html": [
       "<div>\n",
       "<style scoped>\n",
       "    .dataframe tbody tr th:only-of-type {\n",
       "        vertical-align: middle;\n",
       "    }\n",
       "\n",
       "    .dataframe tbody tr th {\n",
       "        vertical-align: top;\n",
       "    }\n",
       "\n",
       "    .dataframe thead th {\n",
       "        text-align: right;\n",
       "    }\n",
       "</style>\n",
       "<table border=\"1\" class=\"dataframe\">\n",
       "  <thead>\n",
       "    <tr style=\"text-align: right;\">\n",
       "      <th></th>\n",
       "      <th>stops</th>\n",
       "      <th>searches</th>\n",
       "      <th>hits</th>\n",
       "      <th>search_rate</th>\n",
       "      <th>hit_rate</th>\n",
       "    </tr>\n",
       "    <tr>\n",
       "      <th>driver_race</th>\n",
       "      <th></th>\n",
       "      <th></th>\n",
       "      <th></th>\n",
       "      <th></th>\n",
       "      <th></th>\n",
       "    </tr>\n",
       "  </thead>\n",
       "  <tbody>\n",
       "    <tr>\n",
       "      <th>Asian</th>\n",
       "      <td>102300.0</td>\n",
       "      <td>1078.0</td>\n",
       "      <td>357.0</td>\n",
       "      <td>0.010538</td>\n",
       "      <td>0.331169</td>\n",
       "    </tr>\n",
       "    <tr>\n",
       "      <th>Black</th>\n",
       "      <td>351713.0</td>\n",
       "      <td>8561.0</td>\n",
       "      <td>4170.0</td>\n",
       "      <td>0.024341</td>\n",
       "      <td>0.487093</td>\n",
       "    </tr>\n",
       "    <tr>\n",
       "      <th>Hispanic</th>\n",
       "      <td>338391.0</td>\n",
       "      <td>11139.0</td>\n",
       "      <td>5009.0</td>\n",
       "      <td>0.032918</td>\n",
       "      <td>0.449681</td>\n",
       "    </tr>\n",
       "    <tr>\n",
       "      <th>White</th>\n",
       "      <td>2529408.0</td>\n",
       "      <td>34845.0</td>\n",
       "      <td>18231.0</td>\n",
       "      <td>0.013776</td>\n",
       "      <td>0.523203</td>\n",
       "    </tr>\n",
       "  </tbody>\n",
       "</table>\n",
       "</div>"
      ],
      "text/plain": [
       "                 stops  searches     hits  search_rate  hit_rate\n",
       "driver_race                                                     \n",
       "Asian         102300.0    1078.0    357.0     0.010538  0.331169\n",
       "Black         351713.0    8561.0   4170.0     0.024341  0.487093\n",
       "Hispanic      338391.0   11139.0   5009.0     0.032918  0.449681\n",
       "White        2529408.0   34845.0  18231.0     0.013776  0.523203"
      ]
     },
     "execution_count": 452,
     "metadata": {},
     "output_type": "execute_result"
    }
   ],
   "source": [
    "df.groupby('driver_race').apply(search_and_hit_rates)"
   ]
  },
  {
   "cell_type": "markdown",
   "metadata": {},
   "source": [
    "<div class=\"alert alert-block alert-warning\">\n",
    "<p>Next I account for location to ensure one county isn't throwing off the results for the overall dataset. You can see below that Black and Hispanic drivers are searched at significantly higher rates than white drivers despite having lower hit rates even when accounting for location.</p>\n",
    "</div>"
   ]
  },
  {
   "cell_type": "code",
   "execution_count": 206,
   "metadata": {},
   "outputs": [],
   "source": [
    "def generate_comparison_scatter(df, ax, state, race, field, color):\n",
    "    race_location_agg = df.groupby(['county_fips','driver_race']).apply(search_and_hit_rates).reset_index().dropna()    \n",
    "    race_location_agg = race_location_agg.pivot(index='county_fips', columns='driver_race', values=field)\n",
    "    ax = sns.scatterplot(data=race_location_agg, x='White', y=race, label=race, color=color, ax=ax)\n",
    "    return ax\n",
    "\n",
    "\n",
    "def format_scatter_chart(ax, state, field):\n",
    "    ax.set_xlabel('{} - White'.format(field))\n",
    "    ax.set_ylabel('{} - Non-White'.format(field, race))\n",
    "    ax.set_title('{} By County - {}'.format(field, state))\n",
    "    lim = max(ax.get_xlim()[1], ax.get_ylim()[1])\n",
    "    ax.set_xlim(0, lim)\n",
    "    ax.set_ylim(0, lim)\n",
    "    diag_line, = ax.plot(ax.get_xlim(), ax.get_ylim(), ls=\"--\", c=\".3\")\n",
    "    ax.legend()\n",
    "    return ax\n",
    "\n",
    "\n",
    "def generate_comparison_scatters(df, state):\n",
    "    fig, axes = plt.subplots(nrows=1, ncols=2, figsize=(20, 10))\n",
    "    generate_comparison_scatter(df, axes[0], state, 'Black', 'search_rate', 'red')\n",
    "    generate_comparison_scatter(df, axes[0], state, 'Hispanic', 'search_rate', 'orange')\n",
    "    generate_comparison_scatter(df, axes[0], state, 'Asian', 'search_rate', 'green')\n",
    "    format_scatter_chart(axes[0], state, 'Search Rate')\n",
    "    \n",
    "    generate_comparison_scatter(df, axes[1], state, 'Black', 'hit_rate', 'red')\n",
    "    generate_comparison_scatter(df, axes[1], state, 'Hispanic', 'hit_rate', 'orange')\n",
    "    generate_comparison_scatter(df, axes[1], state, 'Asian', 'hit_rate', 'green')\n",
    "    format_scatter_chart(axes[1], state, 'Hit Rate')\n",
    "\n",
    "    return fig"
   ]
  },
  {
   "cell_type": "code",
   "execution_count": 454,
   "metadata": {},
   "outputs": [
    {
     "data": {
      "image/png": "[encoded data removed]",
      "text/plain": [
       "<Figure size 1440x720 with 2 Axes>"
      ]
     },
     "metadata": {
      "needs_background": "light"
     },
     "output_type": "display_data"
    }
   ],
   "source": [
    "_ = generate_comparison_scatters(df, 'MA')"
   ]
  },
  {
   "cell_type": "code",
   "execution_count": 465,
   "metadata": {},
   "outputs": [],
   "source": [
    "def generate_county_search_stats_scatter(df, state):\n",
    "    race_location_agg = df.groupby(['county_fips','driver_race']).apply(search_and_hit_rates)\n",
    "\n",
    "    colors = ['green','red', 'gold','blue']\n",
    "    fig, ax = plt.subplots(figsize=(20, 10))\n",
    "    for c, frame in race_location_agg.groupby(level='driver_race'):\n",
    "        sns.scatterplot(x=frame['hit_rate'], y=frame['search_rate'], s=150, label=c, color=colors.pop(), ax=ax)\n",
    "    ax.legend(loc='upper center', bbox_to_anchor=(0.5, 1.2), ncol=4, fancybox=True)\n",
    "    ax.set_xlabel('Hit Rate')\n",
    "    ax.set_ylabel('Search Rate')\n",
    "    ax.set_title(\"Search Stats By County and Race - {}\".format(state))\n",
    "    return fig"
   ]
  },
  {
   "cell_type": "code",
   "execution_count": 460,
   "metadata": {},
   "outputs": [
    {
     "data": {
      "image/png": "[encoded data removed]",
      "text/plain": [
       "<Figure size 1440x720 with 1 Axes>"
      ]
     },
     "metadata": {
      "needs_background": "light"
     },
     "output_type": "display_data"
    }
   ],
   "source": [
    "_ = generate_county_search_stats_scatter(df, 'MA')"
   ]
  },
  {
   "cell_type": "markdown",
   "metadata": {},
   "source": [
    "<h2>Colorado</h2>\n",
    "\n",
    "<div class=\"alert alert-block alert-warning\">\n",
    "<p>Colorado is a state I enjoy visiting that also has a reasonably sized dataset. I read in the data, clean it, and compute stop rates and perform the outcome test.</p>\n",
    "</div>"
   ]
  },
  {
   "cell_type": "code",
   "execution_count": 4,
   "metadata": {},
   "outputs": [],
   "source": [
    "df_co = read_state_df('CO')"
   ]
  },
  {
   "cell_type": "code",
   "execution_count": 5,
   "metadata": {},
   "outputs": [
    {
     "data": {
      "text/html": [
       "<div>\n",
       "<style scoped>\n",
       "    .dataframe tbody tr th:only-of-type {\n",
       "        vertical-align: middle;\n",
       "    }\n",
       "\n",
       "    .dataframe tbody tr th {\n",
       "        vertical-align: top;\n",
       "    }\n",
       "\n",
       "    .dataframe thead th {\n",
       "        text-align: right;\n",
       "    }\n",
       "</style>\n",
       "<table border=\"1\" class=\"dataframe\">\n",
       "  <thead>\n",
       "    <tr style=\"text-align: right;\">\n",
       "      <th></th>\n",
       "      <th>id</th>\n",
       "      <th>state</th>\n",
       "      <th>stop_date</th>\n",
       "      <th>stop_time</th>\n",
       "      <th>location_raw</th>\n",
       "      <th>county_name</th>\n",
       "      <th>county_fips</th>\n",
       "      <th>fine_grained_location</th>\n",
       "      <th>police_department</th>\n",
       "      <th>driver_gender</th>\n",
       "      <th>...</th>\n",
       "      <th>search_conducted</th>\n",
       "      <th>search_type_raw</th>\n",
       "      <th>search_type</th>\n",
       "      <th>contraband_found</th>\n",
       "      <th>stop_outcome</th>\n",
       "      <th>is_arrested</th>\n",
       "      <th>officer_id</th>\n",
       "      <th>officer_gender</th>\n",
       "      <th>vehicle_type</th>\n",
       "      <th>out_of_state</th>\n",
       "    </tr>\n",
       "  </thead>\n",
       "  <tbody>\n",
       "    <tr>\n",
       "      <th>0</th>\n",
       "      <td>CO-2010-000001</td>\n",
       "      <td>CO</td>\n",
       "      <td>2010-01-01</td>\n",
       "      <td>00:00</td>\n",
       "      <td>10.0</td>\n",
       "      <td>Arapahoe County</td>\n",
       "      <td>8005.0</td>\n",
       "      <td>289</td>\n",
       "      <td>Golden</td>\n",
       "      <td>F</td>\n",
       "      <td>...</td>\n",
       "      <td>False</td>\n",
       "      <td>NaN</td>\n",
       "      <td>NaN</td>\n",
       "      <td>False</td>\n",
       "      <td>Verbal Warning</td>\n",
       "      <td>False</td>\n",
       "      <td>1024976.0</td>\n",
       "      <td>M</td>\n",
       "      <td>NA NA 0</td>\n",
       "      <td>False</td>\n",
       "    </tr>\n",
       "    <tr>\n",
       "      <th>1</th>\n",
       "      <td>CO-2010-000002</td>\n",
       "      <td>CO</td>\n",
       "      <td>2010-01-01</td>\n",
       "      <td>00:01</td>\n",
       "      <td>4.0</td>\n",
       "      <td>El Paso County</td>\n",
       "      <td>8041.0</td>\n",
       "      <td>3</td>\n",
       "      <td>Colorado Springs</td>\n",
       "      <td>F</td>\n",
       "      <td>...</td>\n",
       "      <td>False</td>\n",
       "      <td>NaN</td>\n",
       "      <td>NaN</td>\n",
       "      <td>False</td>\n",
       "      <td>Verbal Warning</td>\n",
       "      <td>False</td>\n",
       "      <td>1069803.0</td>\n",
       "      <td>NaN</td>\n",
       "      <td>NA NA 0</td>\n",
       "      <td>False</td>\n",
       "    </tr>\n",
       "    <tr>\n",
       "      <th>2</th>\n",
       "      <td>CO-2010-000003</td>\n",
       "      <td>CO</td>\n",
       "      <td>2010-01-01</td>\n",
       "      <td>00:01</td>\n",
       "      <td>24.0</td>\n",
       "      <td>Garfield County</td>\n",
       "      <td>8045.0</td>\n",
       "      <td>3</td>\n",
       "      <td>Glenwood Springs</td>\n",
       "      <td>M</td>\n",
       "      <td>...</td>\n",
       "      <td>False</td>\n",
       "      <td>NaN</td>\n",
       "      <td>NaN</td>\n",
       "      <td>False</td>\n",
       "      <td>Verbal Warning</td>\n",
       "      <td>False</td>\n",
       "      <td>1198321.0</td>\n",
       "      <td>M</td>\n",
       "      <td>NA NA 0</td>\n",
       "      <td>False</td>\n",
       "    </tr>\n",
       "    <tr>\n",
       "      <th>3</th>\n",
       "      <td>CO-2010-000004</td>\n",
       "      <td>CO</td>\n",
       "      <td>2010-01-01</td>\n",
       "      <td>00:02</td>\n",
       "      <td>19.0</td>\n",
       "      <td>Yuma County</td>\n",
       "      <td>8125.0</td>\n",
       "      <td>NaN</td>\n",
       "      <td>Sterling</td>\n",
       "      <td>M</td>\n",
       "      <td>...</td>\n",
       "      <td>False</td>\n",
       "      <td>NaN</td>\n",
       "      <td>NaN</td>\n",
       "      <td>False</td>\n",
       "      <td>Citation</td>\n",
       "      <td>False</td>\n",
       "      <td>1167059.0</td>\n",
       "      <td>NaN</td>\n",
       "      <td>Ford F-250 2003</td>\n",
       "      <td>False</td>\n",
       "    </tr>\n",
       "    <tr>\n",
       "      <th>4</th>\n",
       "      <td>CO-2010-000005</td>\n",
       "      <td>CO</td>\n",
       "      <td>2010-01-01</td>\n",
       "      <td>00:02</td>\n",
       "      <td>11.0</td>\n",
       "      <td>Jefferson County</td>\n",
       "      <td>8059.0</td>\n",
       "      <td>NaN</td>\n",
       "      <td>6A</td>\n",
       "      <td>F</td>\n",
       "      <td>...</td>\n",
       "      <td>False</td>\n",
       "      <td>NaN</td>\n",
       "      <td>NaN</td>\n",
       "      <td>False</td>\n",
       "      <td>Written Warning</td>\n",
       "      <td>False</td>\n",
       "      <td>1300790.0</td>\n",
       "      <td>NaN</td>\n",
       "      <td>Oldsmobile Intrigue 1999</td>\n",
       "      <td>False</td>\n",
       "    </tr>\n",
       "  </tbody>\n",
       "</table>\n",
       "<p>5 rows × 26 columns</p>\n",
       "</div>"
      ],
      "text/plain": [
       "               id state   stop_date stop_time  location_raw       county_name  \\\n",
       "0  CO-2010-000001    CO  2010-01-01     00:00          10.0   Arapahoe County   \n",
       "1  CO-2010-000002    CO  2010-01-01     00:01           4.0    El Paso County   \n",
       "2  CO-2010-000003    CO  2010-01-01     00:01          24.0   Garfield County   \n",
       "3  CO-2010-000004    CO  2010-01-01     00:02          19.0       Yuma County   \n",
       "4  CO-2010-000005    CO  2010-01-01     00:02          11.0  Jefferson County   \n",
       "\n",
       "   county_fips fine_grained_location police_department driver_gender  ...  \\\n",
       "0       8005.0                   289            Golden             F  ...   \n",
       "1       8041.0                     3  Colorado Springs             F  ...   \n",
       "2       8045.0                     3  Glenwood Springs             M  ...   \n",
       "3       8125.0                   NaN          Sterling             M  ...   \n",
       "4       8059.0                   NaN                6A             F  ...   \n",
       "\n",
       "  search_conducted  search_type_raw search_type contraband_found  \\\n",
       "0            False              NaN         NaN            False   \n",
       "1            False              NaN         NaN            False   \n",
       "2            False              NaN         NaN            False   \n",
       "3            False              NaN         NaN            False   \n",
       "4            False              NaN         NaN            False   \n",
       "\n",
       "      stop_outcome is_arrested  officer_id officer_gender  \\\n",
       "0   Verbal Warning       False   1024976.0              M   \n",
       "1   Verbal Warning       False   1069803.0            NaN   \n",
       "2   Verbal Warning       False   1198321.0              M   \n",
       "3         Citation       False   1167059.0            NaN   \n",
       "4  Written Warning       False   1300790.0            NaN   \n",
       "\n",
       "               vehicle_type out_of_state  \n",
       "0                   NA NA 0        False  \n",
       "1                   NA NA 0        False  \n",
       "2                   NA NA 0        False  \n",
       "3           Ford F-250 2003        False  \n",
       "4  Oldsmobile Intrigue 1999        False  \n",
       "\n",
       "[5 rows x 26 columns]"
      ]
     },
     "execution_count": 5,
     "metadata": {},
     "output_type": "execute_result"
    }
   ],
   "source": [
    "df_co.head(5)"
   ]
  },
  {
   "cell_type": "code",
   "execution_count": 11,
   "metadata": {},
   "outputs": [],
   "source": [
    "df_co = df_co[['county_name', 'county_fips', 'driver_gender', 'driver_age', 'driver_race', 'violation', 'search_conducted', 'search_type', 'contraband_found', 'stop_outcome', 'is_arrested', 'out_of_state', 'stop_date', 'stop_time', 'officer_id', 'officer_gender']]\n",
    "\n",
    "df_co['violation'] = df_co.violation.fillna('N/A')\n",
    "df_co['search_type'] = df_co.search_type.fillna('N/A')\n",
    "\n",
    "\n",
    "df_co = df_co.dropna(subset=['driver_gender', 'driver_race'])"
   ]
  },
  {
   "cell_type": "code",
   "execution_count": 163,
   "metadata": {},
   "outputs": [
    {
     "data": {
      "text/html": [
       "<div>\n",
       "<style scoped>\n",
       "    .dataframe tbody tr th:only-of-type {\n",
       "        vertical-align: middle;\n",
       "    }\n",
       "\n",
       "    .dataframe tbody tr th {\n",
       "        vertical-align: top;\n",
       "    }\n",
       "\n",
       "    .dataframe thead th {\n",
       "        text-align: right;\n",
       "    }\n",
       "</style>\n",
       "<table border=\"1\" class=\"dataframe\">\n",
       "  <thead>\n",
       "    <tr style=\"text-align: right;\">\n",
       "      <th></th>\n",
       "      <th>county_name</th>\n",
       "      <th>county_fips</th>\n",
       "      <th>driver_gender</th>\n",
       "      <th>driver_age</th>\n",
       "      <th>driver_race</th>\n",
       "      <th>violation</th>\n",
       "      <th>search_conducted</th>\n",
       "      <th>search_type</th>\n",
       "      <th>contraband_found</th>\n",
       "      <th>stop_outcome</th>\n",
       "      <th>is_arrested</th>\n",
       "      <th>out_of_state</th>\n",
       "      <th>stop_date</th>\n",
       "      <th>stop_time</th>\n",
       "      <th>officer_id</th>\n",
       "      <th>officer_gender</th>\n",
       "      <th>stop_year</th>\n",
       "      <th>fips</th>\n",
       "    </tr>\n",
       "  </thead>\n",
       "  <tbody>\n",
       "    <tr>\n",
       "      <th>0</th>\n",
       "      <td>Arapahoe County</td>\n",
       "      <td>8005.0</td>\n",
       "      <td>F</td>\n",
       "      <td>19.0</td>\n",
       "      <td>White</td>\n",
       "      <td>Lights</td>\n",
       "      <td>False</td>\n",
       "      <td>N/A</td>\n",
       "      <td>False</td>\n",
       "      <td>Verbal Warning</td>\n",
       "      <td>False</td>\n",
       "      <td>False</td>\n",
       "      <td>2010-01-01</td>\n",
       "      <td>00:00</td>\n",
       "      <td>1024976.0</td>\n",
       "      <td>M</td>\n",
       "      <td>2010</td>\n",
       "      <td>08005</td>\n",
       "    </tr>\n",
       "    <tr>\n",
       "      <th>1</th>\n",
       "      <td>El Paso County</td>\n",
       "      <td>8041.0</td>\n",
       "      <td>F</td>\n",
       "      <td>16.0</td>\n",
       "      <td>White</td>\n",
       "      <td>Speeding</td>\n",
       "      <td>False</td>\n",
       "      <td>N/A</td>\n",
       "      <td>False</td>\n",
       "      <td>Verbal Warning</td>\n",
       "      <td>False</td>\n",
       "      <td>False</td>\n",
       "      <td>2010-01-01</td>\n",
       "      <td>00:01</td>\n",
       "      <td>1069803.0</td>\n",
       "      <td>NaN</td>\n",
       "      <td>2010</td>\n",
       "      <td>08041</td>\n",
       "    </tr>\n",
       "    <tr>\n",
       "      <th>2</th>\n",
       "      <td>Garfield County</td>\n",
       "      <td>8045.0</td>\n",
       "      <td>M</td>\n",
       "      <td>60.0</td>\n",
       "      <td>White</td>\n",
       "      <td>Safe movement</td>\n",
       "      <td>False</td>\n",
       "      <td>N/A</td>\n",
       "      <td>False</td>\n",
       "      <td>Verbal Warning</td>\n",
       "      <td>False</td>\n",
       "      <td>False</td>\n",
       "      <td>2010-01-01</td>\n",
       "      <td>00:01</td>\n",
       "      <td>1198321.0</td>\n",
       "      <td>M</td>\n",
       "      <td>2010</td>\n",
       "      <td>08045</td>\n",
       "    </tr>\n",
       "  </tbody>\n",
       "</table>\n",
       "</div>"
      ],
      "text/plain": [
       "       county_name  county_fips driver_gender  driver_age driver_race  \\\n",
       "0  Arapahoe County       8005.0             F        19.0       White   \n",
       "1   El Paso County       8041.0             F        16.0       White   \n",
       "2  Garfield County       8045.0             M        60.0       White   \n",
       "\n",
       "       violation  search_conducted search_type contraband_found  \\\n",
       "0         Lights             False         N/A            False   \n",
       "1       Speeding             False         N/A            False   \n",
       "2  Safe movement             False         N/A            False   \n",
       "\n",
       "     stop_outcome is_arrested out_of_state   stop_date stop_time  officer_id  \\\n",
       "0  Verbal Warning       False        False  2010-01-01     00:00   1024976.0   \n",
       "1  Verbal Warning       False        False  2010-01-01     00:01   1069803.0   \n",
       "2  Verbal Warning       False        False  2010-01-01     00:01   1198321.0   \n",
       "\n",
       "  officer_gender stop_year   fips  \n",
       "0              M      2010  08005  \n",
       "1            NaN      2010  08041  \n",
       "2              M      2010  08045  "
      ]
     },
     "execution_count": 163,
     "metadata": {},
     "output_type": "execute_result"
    }
   ],
   "source": [
    "df_co = df_co[df_co.driver_race != 'Other']\n",
    "df_co = df_co[~df_co.stop_date.isnull()]\n",
    "df_co['stop_year'] = df_co.stop_date.apply(lambda d: d.split(\"-\")[0])\n",
    "df_co = df_co[df_co.stop_year < '2016']\n",
    "#convert fips column to a string for ease of use\n",
    "df_co['fips'] = df_co.county_fips.apply(lambda x: None if np.isnan(x) else str(int(x)).zfill(5))\n",
    "df_co = df_co[df_co.out_of_state == False]\n",
    "\n",
    "df_co.head(3)"
   ]
  },
  {
   "cell_type": "code",
   "execution_count": 203,
   "metadata": {},
   "outputs": [
    {
     "data": {
      "image/png": "[encoded data removed]",
      "text/plain": [
       "<Figure size 1008x288 with 1 Axes>"
      ]
     },
     "metadata": {
      "needs_background": "light"
     },
     "output_type": "display_data"
    }
   ],
   "source": [
    "df_co_stop_rates = stop_rates_per_capita(df_co)\n",
    "\n",
    "co_avg_stop_rates = df_co_stop_rates[['asian_stop_rate', 'black_stop_rate', 'hispanic_stop_rate', 'white_stop_rate']].mean().reset_index()\n",
    "co_avg_stop_rates['driver_race'] = co_avg_stop_rates['index'].apply(lambda x: x.split('_')[0].capitalize())\n",
    "co_avg_stop_rates['stop_rate'] = co_avg_stop_rates[0]\n",
    "\n",
    "fig, axes = plt.subplots(figsize=(14, 4))\n",
    "_ = sns.barplot(data=co_avg_stop_rates, \n",
    "                x='driver_race', \n",
    "                y='stop_rate', \n",
    "                color='gray', \n",
    "                ax=axes).set_title('Stop Rates by Race')"
   ]
  },
  {
   "cell_type": "code",
   "execution_count": 204,
   "metadata": {},
   "outputs": [
    {
     "data": {
      "text/plain": [
       "1.5"
      ]
     },
     "execution_count": 204,
     "metadata": {},
     "output_type": "execute_result"
    }
   ],
   "source": [
    "black_stop_rate = co_avg_stop_rates[co_avg_stop_rates.driver_race == 'Black'].iloc[0]['stop_rate']\n",
    "white_stop_rate = co_avg_stop_rates[co_avg_stop_rates.driver_race == 'White'].iloc[0]['stop_rate']\n",
    "\n",
    "round(black_stop_rate / white_stop_rate, 1)"
   ]
  },
  {
   "cell_type": "markdown",
   "metadata": {},
   "source": [
    "<div class=\"alert alert-block alert-warning\">\n",
    "<p>Black drivers are stopped at a rate 1.5 times higher than white drivers.</p>\n",
    "</div>"
   ]
  },
  {
   "cell_type": "markdown",
   "metadata": {},
   "source": [
    "<h2>Colorado Outcome Test</h2>\n",
    "\n",
    "<div class=\"alert alert-block alert-warning\">\n",
    "<p>Perhaps a little less pronounced than others but still indicative of bias.</p>\n",
    "</div>"
   ]
  },
  {
   "cell_type": "code",
   "execution_count": 221,
   "metadata": {},
   "outputs": [
    {
     "data": {
      "image/png": "[encoded data removed]",
      "text/plain": [
       "<Figure size 1440x720 with 2 Axes>"
      ]
     },
     "metadata": {
      "needs_background": "light"
     },
     "output_type": "display_data"
    }
   ],
   "source": [
    "_ = generate_comparison_scatters(df_co, 'CO')"
   ]
  },
  {
   "cell_type": "markdown",
   "metadata": {},
   "source": [
    "<h2>New Jersey</h2>\n",
    "\n",
    "<div class=\"alert alert-block alert-warning\">\n",
    "<p>Next, I read in New Jersey's data. I was born in NJ, the dataset is a reasonable size, and it includes some columns that aren't available in others. We will use one of these new columns, stop time, to attempt a new test. First, we'll clean up the data and compute some stop rates.</p>\n",
    "</div>"
   ]
  },
  {
   "cell_type": "code",
   "execution_count": 7,
   "metadata": {},
   "outputs": [],
   "source": [
    "df_nj = read_state_df('NJ')"
   ]
  },
  {
   "cell_type": "code",
   "execution_count": 8,
   "metadata": {},
   "outputs": [
    {
     "data": {
      "text/html": [
       "<div>\n",
       "<style scoped>\n",
       "    .dataframe tbody tr th:only-of-type {\n",
       "        vertical-align: middle;\n",
       "    }\n",
       "\n",
       "    .dataframe tbody tr th {\n",
       "        vertical-align: top;\n",
       "    }\n",
       "\n",
       "    .dataframe thead th {\n",
       "        text-align: right;\n",
       "    }\n",
       "</style>\n",
       "<table border=\"1\" class=\"dataframe\">\n",
       "  <thead>\n",
       "    <tr style=\"text-align: right;\">\n",
       "      <th></th>\n",
       "      <th>id</th>\n",
       "      <th>state</th>\n",
       "      <th>stop_date</th>\n",
       "      <th>stop_time</th>\n",
       "      <th>location_raw</th>\n",
       "      <th>county_name</th>\n",
       "      <th>county_fips</th>\n",
       "      <th>fine_grained_location</th>\n",
       "      <th>police_department</th>\n",
       "      <th>driver_gender</th>\n",
       "      <th>driver_race_raw</th>\n",
       "      <th>driver_race</th>\n",
       "      <th>violation_raw</th>\n",
       "      <th>violation</th>\n",
       "      <th>stop_outcome</th>\n",
       "      <th>officer_id</th>\n",
       "      <th>out_of_state</th>\n",
       "      <th>vehicle_make</th>\n",
       "      <th>vehicle_model</th>\n",
       "      <th>vehicle_color</th>\n",
       "    </tr>\n",
       "  </thead>\n",
       "  <tbody>\n",
       "    <tr>\n",
       "      <th>0</th>\n",
       "      <td>NJ-2009-000001</td>\n",
       "      <td>NJ</td>\n",
       "      <td>2009-01-01</td>\n",
       "      <td>00:00</td>\n",
       "      <td>Bordentown Twp</td>\n",
       "      <td>Burlington County</td>\n",
       "      <td>34005.0</td>\n",
       "      <td>GROVEVILLE/ 130 SB</td>\n",
       "      <td>C060</td>\n",
       "      <td>M</td>\n",
       "      <td>W - WHITE</td>\n",
       "      <td>White</td>\n",
       "      <td>39:4-99 EXCEED SPEED LIMITATIONS</td>\n",
       "      <td>Speeding</td>\n",
       "      <td>Warning</td>\n",
       "      <td>6578.0</td>\n",
       "      <td>True</td>\n",
       "      <td>Saturn</td>\n",
       "      <td>NaN</td>\n",
       "      <td>GRN</td>\n",
       "    </tr>\n",
       "    <tr>\n",
       "      <th>1</th>\n",
       "      <td>NJ-2009-000002</td>\n",
       "      <td>NJ</td>\n",
       "      <td>2009-01-01</td>\n",
       "      <td>00:01</td>\n",
       "      <td>Lacey Twp</td>\n",
       "      <td>Ocean County</td>\n",
       "      <td>34029.0</td>\n",
       "      <td>@GSP NB MP 76.5 LACEY TWP-OCE E030</td>\n",
       "      <td>E030</td>\n",
       "      <td>M</td>\n",
       "      <td>OA - OTHER ASIAN</td>\n",
       "      <td>Asian</td>\n",
       "      <td>NaN</td>\n",
       "      <td>NaN</td>\n",
       "      <td>NaN</td>\n",
       "      <td>6364.0</td>\n",
       "      <td>True</td>\n",
       "      <td>Toyota</td>\n",
       "      <td>NaN</td>\n",
       "      <td>BLK</td>\n",
       "    </tr>\n",
       "    <tr>\n",
       "      <th>2</th>\n",
       "      <td>NJ-2009-000003</td>\n",
       "      <td>NJ</td>\n",
       "      <td>2009-01-01</td>\n",
       "      <td>00:06</td>\n",
       "      <td>Pittsgrove Twp</td>\n",
       "      <td>Salem County</td>\n",
       "      <td>34033.0</td>\n",
       "      <td>56 W MP 7</td>\n",
       "      <td>A040</td>\n",
       "      <td>M</td>\n",
       "      <td>H - HISPANIC</td>\n",
       "      <td>Hispanic</td>\n",
       "      <td>39:3-40 DRIVE WITHOUT LICENSE|39:4-98 RATES OF...</td>\n",
       "      <td>License,Speeding</td>\n",
       "      <td>Summons</td>\n",
       "      <td>6488.0</td>\n",
       "      <td>False</td>\n",
       "      <td>NaN</td>\n",
       "      <td>NaN</td>\n",
       "      <td>SIL</td>\n",
       "    </tr>\n",
       "    <tr>\n",
       "      <th>3</th>\n",
       "      <td>NJ-2009-000004</td>\n",
       "      <td>NJ</td>\n",
       "      <td>2009-01-01</td>\n",
       "      <td>00:08</td>\n",
       "      <td>Fairfield Twp</td>\n",
       "      <td>Cumberland County</td>\n",
       "      <td>34011.0</td>\n",
       "      <td>@I-80 EB MP 48.5 FAIRFIELD TWP-ESS B200</td>\n",
       "      <td>B060</td>\n",
       "      <td>F</td>\n",
       "      <td>B - BLACK</td>\n",
       "      <td>Black</td>\n",
       "      <td>NaN</td>\n",
       "      <td>NaN</td>\n",
       "      <td>NaN</td>\n",
       "      <td>6440.0</td>\n",
       "      <td>True</td>\n",
       "      <td>Jeep</td>\n",
       "      <td>NaN</td>\n",
       "      <td>BLK</td>\n",
       "    </tr>\n",
       "    <tr>\n",
       "      <th>4</th>\n",
       "      <td>NJ-2009-000005</td>\n",
       "      <td>NJ</td>\n",
       "      <td>2009-01-01</td>\n",
       "      <td>00:09</td>\n",
       "      <td>Bass River Twp</td>\n",
       "      <td>Burlington County</td>\n",
       "      <td>34005.0</td>\n",
       "      <td>@GSP NB MP 52.2 BASS RIVER TWP-BUR E030</td>\n",
       "      <td>E030</td>\n",
       "      <td>M</td>\n",
       "      <td>W - WHITE</td>\n",
       "      <td>White</td>\n",
       "      <td>39:4-99 EXCEED SPEED LIMITATIONS</td>\n",
       "      <td>Speeding</td>\n",
       "      <td>Warning</td>\n",
       "      <td>4003.0</td>\n",
       "      <td>False</td>\n",
       "      <td>Cadillac</td>\n",
       "      <td>NaN</td>\n",
       "      <td>WHI</td>\n",
       "    </tr>\n",
       "  </tbody>\n",
       "</table>\n",
       "</div>"
      ],
      "text/plain": [
       "               id state   stop_date stop_time    location_raw  \\\n",
       "0  NJ-2009-000001    NJ  2009-01-01     00:00  Bordentown Twp   \n",
       "1  NJ-2009-000002    NJ  2009-01-01     00:01       Lacey Twp   \n",
       "2  NJ-2009-000003    NJ  2009-01-01     00:06  Pittsgrove Twp   \n",
       "3  NJ-2009-000004    NJ  2009-01-01     00:08   Fairfield Twp   \n",
       "4  NJ-2009-000005    NJ  2009-01-01     00:09  Bass River Twp   \n",
       "\n",
       "         county_name  county_fips                    fine_grained_location  \\\n",
       "0  Burlington County      34005.0                       GROVEVILLE/ 130 SB   \n",
       "1       Ocean County      34029.0       @GSP NB MP 76.5 LACEY TWP-OCE E030   \n",
       "2       Salem County      34033.0                                56 W MP 7   \n",
       "3  Cumberland County      34011.0  @I-80 EB MP 48.5 FAIRFIELD TWP-ESS B200   \n",
       "4  Burlington County      34005.0  @GSP NB MP 52.2 BASS RIVER TWP-BUR E030   \n",
       "\n",
       "  police_department driver_gender   driver_race_raw driver_race  \\\n",
       "0              C060             M         W - WHITE       White   \n",
       "1              E030             M  OA - OTHER ASIAN       Asian   \n",
       "2              A040             M      H - HISPANIC    Hispanic   \n",
       "3              B060             F         B - BLACK       Black   \n",
       "4              E030             M         W - WHITE       White   \n",
       "\n",
       "                                       violation_raw         violation  \\\n",
       "0                   39:4-99 EXCEED SPEED LIMITATIONS          Speeding   \n",
       "1                                                NaN               NaN   \n",
       "2  39:3-40 DRIVE WITHOUT LICENSE|39:4-98 RATES OF...  License,Speeding   \n",
       "3                                                NaN               NaN   \n",
       "4                   39:4-99 EXCEED SPEED LIMITATIONS          Speeding   \n",
       "\n",
       "  stop_outcome  officer_id out_of_state vehicle_make vehicle_model  \\\n",
       "0      Warning      6578.0         True       Saturn           NaN   \n",
       "1          NaN      6364.0         True       Toyota           NaN   \n",
       "2      Summons      6488.0        False          NaN           NaN   \n",
       "3          NaN      6440.0         True         Jeep           NaN   \n",
       "4      Warning      4003.0        False     Cadillac           NaN   \n",
       "\n",
       "  vehicle_color  \n",
       "0           GRN  \n",
       "1           BLK  \n",
       "2           SIL  \n",
       "3           BLK  \n",
       "4           WHI  "
      ]
     },
     "execution_count": 8,
     "metadata": {},
     "output_type": "execute_result"
    }
   ],
   "source": [
    "df_nj.head(5)"
   ]
  },
  {
   "cell_type": "code",
   "execution_count": 9,
   "metadata": {},
   "outputs": [],
   "source": [
    "df_nj = df_nj[['county_name', 'county_fips', 'driver_gender', 'driver_race', 'violation', 'stop_outcome', 'out_of_state', 'stop_date', 'stop_time', 'officer_id', 'police_department', 'vehicle_make', 'vehicle_color']]\n",
    "\n",
    "df_nj['violation'] = df_nj.violation.fillna('N/A')\n",
    "df_nj['stop_outcome'] = df_nj.stop_outcome.fillna('N/A')\n",
    "\n",
    "\n",
    "df_nj = df_nj.dropna(subset=['driver_gender', 'driver_race', 'stop_date'])"
   ]
  },
  {
   "cell_type": "code",
   "execution_count": 10,
   "metadata": {},
   "outputs": [
    {
     "data": {
      "text/html": [
       "<div>\n",
       "<style scoped>\n",
       "    .dataframe tbody tr th:only-of-type {\n",
       "        vertical-align: middle;\n",
       "    }\n",
       "\n",
       "    .dataframe tbody tr th {\n",
       "        vertical-align: top;\n",
       "    }\n",
       "\n",
       "    .dataframe thead th {\n",
       "        text-align: right;\n",
       "    }\n",
       "</style>\n",
       "<table border=\"1\" class=\"dataframe\">\n",
       "  <thead>\n",
       "    <tr style=\"text-align: right;\">\n",
       "      <th></th>\n",
       "      <th>county_name</th>\n",
       "      <th>county_fips</th>\n",
       "      <th>driver_gender</th>\n",
       "      <th>driver_race</th>\n",
       "      <th>violation</th>\n",
       "      <th>stop_outcome</th>\n",
       "      <th>out_of_state</th>\n",
       "      <th>stop_date</th>\n",
       "      <th>stop_time</th>\n",
       "      <th>officer_id</th>\n",
       "      <th>police_department</th>\n",
       "      <th>vehicle_make</th>\n",
       "      <th>vehicle_color</th>\n",
       "    </tr>\n",
       "  </thead>\n",
       "  <tbody>\n",
       "    <tr>\n",
       "      <th>0</th>\n",
       "      <td>Burlington County</td>\n",
       "      <td>34005.0</td>\n",
       "      <td>M</td>\n",
       "      <td>White</td>\n",
       "      <td>Speeding</td>\n",
       "      <td>Warning</td>\n",
       "      <td>True</td>\n",
       "      <td>2009-01-01</td>\n",
       "      <td>00:00</td>\n",
       "      <td>6578.0</td>\n",
       "      <td>C060</td>\n",
       "      <td>Saturn</td>\n",
       "      <td>GRN</td>\n",
       "    </tr>\n",
       "    <tr>\n",
       "      <th>1</th>\n",
       "      <td>Ocean County</td>\n",
       "      <td>34029.0</td>\n",
       "      <td>M</td>\n",
       "      <td>Asian</td>\n",
       "      <td>N/A</td>\n",
       "      <td>N/A</td>\n",
       "      <td>True</td>\n",
       "      <td>2009-01-01</td>\n",
       "      <td>00:01</td>\n",
       "      <td>6364.0</td>\n",
       "      <td>E030</td>\n",
       "      <td>Toyota</td>\n",
       "      <td>BLK</td>\n",
       "    </tr>\n",
       "    <tr>\n",
       "      <th>2</th>\n",
       "      <td>Salem County</td>\n",
       "      <td>34033.0</td>\n",
       "      <td>M</td>\n",
       "      <td>Hispanic</td>\n",
       "      <td>License,Speeding</td>\n",
       "      <td>Summons</td>\n",
       "      <td>False</td>\n",
       "      <td>2009-01-01</td>\n",
       "      <td>00:06</td>\n",
       "      <td>6488.0</td>\n",
       "      <td>A040</td>\n",
       "      <td>NaN</td>\n",
       "      <td>SIL</td>\n",
       "    </tr>\n",
       "  </tbody>\n",
       "</table>\n",
       "</div>"
      ],
      "text/plain": [
       "         county_name  county_fips driver_gender driver_race         violation  \\\n",
       "0  Burlington County      34005.0             M       White          Speeding   \n",
       "1       Ocean County      34029.0             M       Asian               N/A   \n",
       "2       Salem County      34033.0             M    Hispanic  License,Speeding   \n",
       "\n",
       "  stop_outcome out_of_state   stop_date stop_time  officer_id  \\\n",
       "0      Warning         True  2009-01-01     00:00      6578.0   \n",
       "1          N/A         True  2009-01-01     00:01      6364.0   \n",
       "2      Summons        False  2009-01-01     00:06      6488.0   \n",
       "\n",
       "  police_department vehicle_make vehicle_color  \n",
       "0              C060       Saturn           GRN  \n",
       "1              E030       Toyota           BLK  \n",
       "2              A040          NaN           SIL  "
      ]
     },
     "execution_count": 10,
     "metadata": {},
     "output_type": "execute_result"
    }
   ],
   "source": [
    "df_nj.head(3)"
   ]
  },
  {
   "cell_type": "code",
   "execution_count": 11,
   "metadata": {},
   "outputs": [],
   "source": [
    "df_nj['stop_year'] = df_nj.stop_date.apply(lambda d: d.split(\"-\")[0])\n",
    "df_nj['fips'] = df_nj.county_fips.apply(lambda x: None if np.isnan(x) else str(int(x)).zfill(5))"
   ]
  },
  {
   "cell_type": "code",
   "execution_count": 12,
   "metadata": {},
   "outputs": [
    {
     "data": {
      "image/png": "[encoded data removed]",
      "text/plain": [
       "<Figure size 1008x288 with 1 Axes>"
      ]
     },
     "metadata": {
      "needs_background": "light"
     },
     "output_type": "display_data"
    }
   ],
   "source": [
    "df_nj_stop_rates = stop_rates_per_capita(df_nj)\n",
    "\n",
    "nj_avg_stop_rates = df_nj_stop_rates[['asian_stop_rate', 'black_stop_rate', 'hispanic_stop_rate', 'white_stop_rate']].mean().reset_index()\n",
    "nj_avg_stop_rates['driver_race'] = nj_avg_stop_rates['index'].apply(lambda x: x.split('_')[0].capitalize())\n",
    "nj_avg_stop_rates['stop_rate'] = nj_avg_stop_rates[0]\n",
    "\n",
    "fig, axes = plt.subplots(figsize=(14, 4))\n",
    "_ = sns.barplot(data=nj_avg_stop_rates, \n",
    "                x='driver_race', \n",
    "                y='stop_rate', \n",
    "                color='gray', \n",
    "                ax=axes).set_title('Stop Rates by Race')"
   ]
  },
  {
   "cell_type": "code",
   "execution_count": 13,
   "metadata": {},
   "outputs": [
    {
     "data": {
      "text/plain": [
       "2.3"
      ]
     },
     "execution_count": 13,
     "metadata": {},
     "output_type": "execute_result"
    }
   ],
   "source": [
    "black_stop_rate = nj_avg_stop_rates[nj_avg_stop_rates.driver_race == 'Black'].iloc[0]['stop_rate']\n",
    "white_stop_rate = nj_avg_stop_rates[nj_avg_stop_rates.driver_race == 'White'].iloc[0]['stop_rate']\n",
    "\n",
    "round(black_stop_rate / white_stop_rate, 1)"
   ]
  },
  {
   "cell_type": "markdown",
   "metadata": {},
   "source": [
    "<div class=\"alert alert-block alert-warning\">\n",
    "<p>Black drivers are stopped at a rate <b>2.3</b> times higher than white drivers.</p>\n",
    "</div>"
   ]
  },
  {
   "cell_type": "markdown",
   "metadata": {},
   "source": [
    "<h2>Veil of Darkness Test</h2>\n",
    "\n",
    "<div class=\"alert alert-block alert-warning\">\n",
    "<p>This is one of the more interesting tests. See the paragraph below for the full explanation of the test. The TLDR version is that we will try comparing the proportion of black drivers during a time range that is dark in the winter and light in the summer. The theory is, officers engaged in racial profiling will be less likely to identify someone's race in a car after dark so the proportion of black drivers will be smaller when it's dark.</p>\n",
    "</div>\n",
    "\n",
    "\n",
    "<p><i>An alternative approach to assessing bias in stop decisions was proposed by Grogger and Ridgeway in 2006. This approach, known as the Veil of Darkness test, relies on the hypothesis that officers who are engaged in racial profiling are less likely to be able to identify a driver’s race after dark than during daylight. Under this hypothesis, if stops made after dark had smaller proportion of black drivers stopped than stops made during daylight, this would be evidence of the presence of racial profiling.\n",
    "\n",
    "The naive approach is just to compare whether daytime stops or nighttime stops have higher proportion of black drivers. This, however, is problematic. More black drivers being stopped at night could be the case for a multitude of reasons: different deployment and enforcement patterns, different driving patterns, etc. All of these things correlate with clock time and would be confounding our results. So let’s find a way to adjust for clock time.\n",
    "\n",
    "To adjust for clock time, we want to compare times that were light at some point during the year (i.e., occurred before dusk) but were dark at other points during the year (i.e., occurred after dusk). This is called the “inter-twilight period”: the range from the earliest time dusk occurs in the year to the latest time dusk occurs in the year.</i></p>"
   ]
  },
  {
   "cell_type": "markdown",
   "metadata": {},
   "source": [
    "<div class=\"alert alert-block alert-warning\">\n",
    "<p>To start, I just run a very dumb (see explanation above) check to test the compute portion function which will provide the proportion of black drivers in a dataset. This test says the proportion of black drivers being stopped is larger at night, let's see if that changes when we improve the test.</p>\n",
    "</div>"
   ]
  },
  {
   "cell_type": "code",
   "execution_count": 62,
   "metadata": {},
   "outputs": [
    {
     "data": {
      "text/html": [
       "<div>\n",
       "<style scoped>\n",
       "    .dataframe tbody tr th:only-of-type {\n",
       "        vertical-align: middle;\n",
       "    }\n",
       "\n",
       "    .dataframe tbody tr th {\n",
       "        vertical-align: top;\n",
       "    }\n",
       "\n",
       "    .dataframe thead th {\n",
       "        text-align: right;\n",
       "    }\n",
       "</style>\n",
       "<table border=\"1\" class=\"dataframe\">\n",
       "  <thead>\n",
       "    <tr style=\"text-align: right;\">\n",
       "      <th></th>\n",
       "      <th>prop_black</th>\n",
       "    </tr>\n",
       "    <tr>\n",
       "      <th>is_dark</th>\n",
       "      <th></th>\n",
       "    </tr>\n",
       "  </thead>\n",
       "  <tbody>\n",
       "    <tr>\n",
       "      <th>False</th>\n",
       "      <td>0.174979</td>\n",
       "    </tr>\n",
       "    <tr>\n",
       "      <th>True</th>\n",
       "      <td>0.227737</td>\n",
       "    </tr>\n",
       "  </tbody>\n",
       "</table>\n",
       "</div>"
      ],
      "text/plain": [
       "         prop_black\n",
       "is_dark            \n",
       "False      0.174979\n",
       "True       0.227737"
      ]
     },
     "execution_count": 62,
     "metadata": {},
     "output_type": "execute_result"
    }
   ],
   "source": [
    "def is_dark(stop_time):\n",
    "    # we'll just use this as the initial dumb window for daylight\n",
    "    return stop_time > '19:00' or stop_time < '06:30'\n",
    "\n",
    "\n",
    "def compute_portion(df):\n",
    "    stops = len(df[df.driver_race == 'Black'])\n",
    "    return pd.Series(data=dict(prop_black=stops/len(df)))\n",
    "\n",
    "\n",
    "df_nj['is_dark'] = df_nj.stop_time.apply(is_dark)\n",
    "df_nj.groupby('is_dark').apply(compute_portion)"
   ]
  },
  {
   "cell_type": "markdown",
   "metadata": {},
   "source": [
    "<div class=\"alert alert-block alert-warning\">\n",
    "<p>In order to improve the test, we must calculate the sunset and dusk times for the dataset. I don't have the exact location for each traffic stop, but I do have the county. I'll calculate the centroid of each county and use that as my location. I read in the county centroid dataset below and merge it into my dataframe.</p>\n",
    "</div>"
   ]
  },
  {
   "cell_type": "code",
   "execution_count": null,
   "metadata": {},
   "outputs": [],
   "source": [
    "def read_county_centroids(eng, fips='*'):\n",
    "    where = '' if fips == '*' else \"WHERE c.geoid IN({})\".format(\", \".join([\"'{}'\".format(f) for f in fips]))\n",
    "    # I could alter the county table to include the centroid but I'm lazy \n",
    "    qry = \"\"\"WITH county_centroids AS (\n",
    "  SELECT \n",
    "    c.geoid AS fips,\n",
    "    ST_Transform(ST_Centroid(c.geom), 4326) AS centroid\n",
    "  FROM\n",
    "    county c\n",
    "  {where}\n",
    ")\n",
    "SELECT\n",
    "  fips,\n",
    "  ST_Y(centroid) AS lat,\n",
    "  ST_X(centroid) AS lng\n",
    "FROM county_centroids;\n",
    "\"\"\".format(where=where)\n",
    "    df = pd.read_sql(qry, eng, index_col='fips')\n",
    "    return df\n",
    "\n",
    "\n",
    "df_county_centroids = read_county_centroids(get_engine(), df_nj.fips.unique().tolist())"
   ]
  },
  {
   "cell_type": "code",
   "execution_count": null,
   "metadata": {},
   "outputs": [],
   "source": [
    "df_nj = df_nj.merge(df_county_centroids, on='fips')"
   ]
  },
  {
   "cell_type": "markdown",
   "metadata": {},
   "source": [
    "<div class=\"alert alert-block alert-warning\">\n",
    "<p>After I have coordinates attached to each traffic stop, I'll compute the sunset and dusk times for the dataset. Because I'm using the county centroid, I don't need to compute sunset and dusk for every row in the data. I can just compute it for each latitude,longitude + date pair and save my computer some fan spinning.</p>\n",
    "</div>"
   ]
  },
  {
   "cell_type": "code",
   "execution_count": null,
   "metadata": {},
   "outputs": [],
   "source": [
    "def compute_sun(row):\n",
    "    stop_date = date_parser.parse(row['stop_date']).date()\n",
    "    city = astral.LocationInfo(\"New York\", \"US\", \"America/New_York\", latitude=row['lat'], longitude=row['lng'])\n",
    "    sun = astral.sun.sun(city.observer, date=stop_date, tzinfo=city.timezone)\n",
    "    sunset = sun['sunset']\n",
    "    dusk = sun['dusk']\n",
    "    return dict(sunset=sunset.time().strftime(\"%H:%M\"),\n",
    "                dusk=dusk.time().strftime(\"%H:%M\"))\n",
    "\n",
    "\n",
    "compute_sun_key = lambda g: f'{g[\"lat\"]}_{g[\"lng\"]}_{g[\"stop_date\"]}'\n",
    "\n",
    "\n",
    "def compute_suns(df):\n",
    "    suns = {}\n",
    "    for group, _ in df.groupby(['lat', 'lng', 'stop_date']):\n",
    "        row = dict(lat=group[0], lng=group[1], stop_date=group[2])\n",
    "        suns[compute_sun_key(row)] = compute_sun(row)\n",
    "    return suns\n",
    "\n",
    "\n",
    "suns_nj = compute_suns(df_nj)"
   ]
  },
  {
   "cell_type": "code",
   "execution_count": null,
   "metadata": {},
   "outputs": [],
   "source": [
    "df_nj = df_nj[df_nj.stop_year == '2016']\n",
    "df_nj['sunset'] = df_nj[['lat', 'lng', 'stop_date']].apply(lambda row: suns_nj.get(compute_sun_key(row), {}).get('sunset'), axis=1)\n",
    "df_nj['dusk'] = df_nj[['lat', 'lng', 'stop_date']].apply(lambda row: suns_nj.get(compute_sun_key(row), {}).get('dusk'), axis=1)"
   ]
  },
  {
   "cell_type": "markdown",
   "metadata": {},
   "source": [
    "<div class=\"alert alert-block alert-warning\">\n",
    "<p>Now that I have sunset and dusk times attached to the data, I compute the min and max dusk for the year. Then I filter the data to just the block of time we care about, the set of hours that's light part of the year and dark part of the year.</p>\n",
    "</div>"
   ]
  },
  {
   "cell_type": "code",
   "execution_count": 26,
   "metadata": {},
   "outputs": [
    {
     "data": {
      "text/plain": [
       "('16:59', '21:09')"
      ]
     },
     "execution_count": 26,
     "metadata": {},
     "output_type": "execute_result"
    }
   ],
   "source": [
    "df_nj = df_nj[['driver_race', 'stop_time', 'stop_date', 'stop_year', 'is_dark', 'sunset', 'dusk']]\n",
    "\n",
    "min_dusk = df_nj.dusk.min()\n",
    "max_dusk = df_nj.dusk.max()\n",
    "\n",
    "min_dusk, max_dusk"
   ]
  },
  {
   "cell_type": "code",
   "execution_count": 28,
   "metadata": {},
   "outputs": [],
   "source": [
    "def filter_to_dusk(row, min_dusk, max_dusk):\n",
    "    if row['driver_race'] not in ('Black', 'White'):\n",
    "        return False\n",
    "    stop_time = row['stop_time']\n",
    "    if stop_time < min_dusk or stop_time > max_dusk:\n",
    "        return False\n",
    "    # filter out ambiguous period between sunset and dusk\n",
    "    return not (stop_time > row['sunset'] and stop_time < row['dusk'])\n",
    "\n",
    "\n",
    "df_nj_twilight = df_nj[df_nj.apply(lambda x: filter_to_dusk(x, min_dusk, max_dusk), axis=1)]"
   ]
  },
  {
   "cell_type": "code",
   "execution_count": 29,
   "metadata": {},
   "outputs": [],
   "source": [
    "df_nj_twilight['is_dark'] = df_nj_twilight.apply(lambda x: x['stop_time'] > x['dusk'], axis=1)"
   ]
  },
  {
   "cell_type": "markdown",
   "metadata": {},
   "source": [
    "<div class=\"alert alert-block alert-warning\">\n",
    "<p>Now that I have the data setup, I run a test for a time interval in the data. The proportion of black drivers is smaller at night for this time range of 6:30pm-6:45pm. To run this test for every time range, I'll need to build a regression model. I'll come back to that :)</p>\n",
    "</div>"
   ]
  },
  {
   "cell_type": "code",
   "execution_count": 30,
   "metadata": {},
   "outputs": [
    {
     "data": {
      "text/html": [
       "<div>\n",
       "<style scoped>\n",
       "    .dataframe tbody tr th:only-of-type {\n",
       "        vertical-align: middle;\n",
       "    }\n",
       "\n",
       "    .dataframe tbody tr th {\n",
       "        vertical-align: top;\n",
       "    }\n",
       "\n",
       "    .dataframe thead th {\n",
       "        text-align: right;\n",
       "    }\n",
       "</style>\n",
       "<table border=\"1\" class=\"dataframe\">\n",
       "  <thead>\n",
       "    <tr style=\"text-align: right;\">\n",
       "      <th></th>\n",
       "      <th>prop_black</th>\n",
       "    </tr>\n",
       "    <tr>\n",
       "      <th>is_dark</th>\n",
       "      <th></th>\n",
       "    </tr>\n",
       "  </thead>\n",
       "  <tbody>\n",
       "    <tr>\n",
       "      <th>False</th>\n",
       "      <td>0.226068</td>\n",
       "    </tr>\n",
       "    <tr>\n",
       "      <th>True</th>\n",
       "      <td>0.196384</td>\n",
       "    </tr>\n",
       "  </tbody>\n",
       "</table>\n",
       "</div>"
      ],
      "text/plain": [
       "         prop_black\n",
       "is_dark            \n",
       "False      0.226068\n",
       "True       0.196384"
      ]
     },
     "execution_count": 30,
     "metadata": {},
     "output_type": "execute_result"
    }
   ],
   "source": [
    "df_nj_twilight[df_nj_twilight.apply(lambda x: filter_to_dusk(x, '18:30', '18:45'), axis=1)].groupby('is_dark').apply(compute_portion)"
   ]
  },
  {
   "cell_type": "code",
   "execution_count": null,
   "metadata": {},
   "outputs": [],
   "source": []
  }
 ],
 "metadata": {
  "kernelspec": {
   "display_name": "Python 3",
   "language": "python",
   "name": "python3"
  },
  "language_info": {
   "codemirror_mode": {
    "name": "ipython",
    "version": 3
   },
   "file_extension": ".py",
   "mimetype": "text/x-python",
   "name": "python",
   "nbconvert_exporter": "python",
   "pygments_lexer": "ipython3",
   "version": "3.7.2"
  }
 },
 "nbformat": 4,
 "nbformat_minor": 2
}
